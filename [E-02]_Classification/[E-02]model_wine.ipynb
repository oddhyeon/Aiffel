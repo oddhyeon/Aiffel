{
 "cells": [
  {
   "cell_type": "markdown",
   "id": "ordered-cooper",
   "metadata": {},
   "source": [
    "# EXPLORATION 02"
   ]
  },
  {
   "cell_type": "markdown",
   "id": "sharp-verification",
   "metadata": {},
   "source": [
    "## 3. 와인 클래스 예측\n",
    "\n",
    "\n",
    "### 1. Imort module"
   ]
  },
  {
   "cell_type": "code",
   "execution_count": 1,
   "id": "artificial-static",
   "metadata": {},
   "outputs": [],
   "source": [
    "from sklearn.datasets import load_wine # 데이터 불러오기\n",
    "from sklearn.model_selection import train_test_split \n",
    "from sklearn.metrics import accuracy_score # 정확도 확인\n",
    "from sklearn.metrics import classification_report \n",
    "from sklearn.tree import DecisionTreeClassifier # DecisionTree 모델 정의\n",
    "from sklearn.linear_model import SGDClassifier # SGDClassifier 모델 정의\n",
    "from sklearn.linear_model import LogisticRegression # Logistic Regression 모델 정의\n",
    "from sklearn.ensemble import RandomForestClassifier # RandomForest 모델 정의\n",
    "from sklearn import svm # SVM 모델 정의\n",
    "from sklearn.metrics import confusion_matrix \n",
    "import numpy as np # numpy 정의\n",
    "import pandas as pd # 데이터프레임을 위한 판다스 정의\n",
    "import matplotlib.pyplot as plt\n",
    "%matplotlib inline"
   ]
  },
  {
   "cell_type": "markdown",
   "id": "wanted-committee",
   "metadata": {},
   "source": [
    "### 2. Data load"
   ]
  },
  {
   "cell_type": "code",
   "execution_count": 2,
   "id": "exceptional-scanner",
   "metadata": {},
   "outputs": [],
   "source": [
    "# 데이터 로드\n",
    "wine = load_wine()\n",
    "wine_data = wine.data\n",
    "wine_target = wine.target\n",
    "bcdf = pd.DataFrame(data=wine_data, columns=wine.feature_names) # 판다스 DataFrame 자료형 변환\n",
    "# pd.set_option('display.max_columns', None) # 데이터 프레임 생략없이 출력"
   ]
  },
  {
   "cell_type": "markdown",
   "id": "periodic-digit",
   "metadata": {},
   "source": [
    "### 3.Data check"
   ]
  },
  {
   "cell_type": "code",
   "execution_count": 3,
   "id": "immediate-mineral",
   "metadata": {
    "scrolled": true
   },
   "outputs": [
    {
     "name": "stdout",
     "output_type": "stream",
     "text": [
      "분류 :  dict_keys(['data', 'target', 'frame', 'target_names', 'DESCR', 'feature_names'])\n",
      "총 데이터 및 특징 갯수 :  (178, 13)\n",
      "Lable :  ['class_0' 'class_1' 'class_2'] \n",
      "\n",
      "특징 이름 :  ['alcohol', 'malic_acid', 'ash', 'alcalinity_of_ash', 'magnesium', 'total_phenols', 'flavanoids', 'nonflavanoid_phenols', 'proanthocyanins', 'color_intensity', 'hue', 'od280/od315_of_diluted_wines', 'proline'] \n",
      "\n"
     ]
    }
   ],
   "source": [
    "# 데이터 확인\n",
    "print('분류 : ',wine.keys()) # 키\n",
    "print('총 데이터 및 특징 갯수 : ',wine_data.shape) \n",
    "print('Lable : ',wine.target_names,'\\n')  # 타겟(정답)에 이름\n",
    "print('특징 이름 : ',wine.feature_names,'\\n') # 각 특징에 설명"
   ]
  },
  {
   "cell_type": "markdown",
   "id": "permanent-peripheral",
   "metadata": {},
   "source": [
    "- 와인 데이터는 178개로 각각 13개의 특성을 나타내고 있습니다.\n",
    "- Lable 데이터에 경우 클래스 별로 구분되고 있습니다."
   ]
  },
  {
   "cell_type": "code",
   "execution_count": 4,
   "id": "interim-phoenix",
   "metadata": {
    "scrolled": true
   },
   "outputs": [
    {
     "data": {
      "text/html": [
       "<div>\n",
       "<style scoped>\n",
       "    .dataframe tbody tr th:only-of-type {\n",
       "        vertical-align: middle;\n",
       "    }\n",
       "\n",
       "    .dataframe tbody tr th {\n",
       "        vertical-align: top;\n",
       "    }\n",
       "\n",
       "    .dataframe thead th {\n",
       "        text-align: right;\n",
       "    }\n",
       "</style>\n",
       "<table border=\"1\" class=\"dataframe\">\n",
       "  <thead>\n",
       "    <tr style=\"text-align: right;\">\n",
       "      <th></th>\n",
       "      <th>alcohol</th>\n",
       "      <th>malic_acid</th>\n",
       "      <th>ash</th>\n",
       "      <th>alcalinity_of_ash</th>\n",
       "      <th>magnesium</th>\n",
       "      <th>total_phenols</th>\n",
       "      <th>flavanoids</th>\n",
       "      <th>nonflavanoid_phenols</th>\n",
       "      <th>proanthocyanins</th>\n",
       "      <th>color_intensity</th>\n",
       "      <th>hue</th>\n",
       "      <th>od280/od315_of_diluted_wines</th>\n",
       "      <th>proline</th>\n",
       "    </tr>\n",
       "  </thead>\n",
       "  <tbody>\n",
       "    <tr>\n",
       "      <th>0</th>\n",
       "      <td>14.23</td>\n",
       "      <td>1.71</td>\n",
       "      <td>2.43</td>\n",
       "      <td>15.6</td>\n",
       "      <td>127.0</td>\n",
       "      <td>2.80</td>\n",
       "      <td>3.06</td>\n",
       "      <td>0.28</td>\n",
       "      <td>2.29</td>\n",
       "      <td>5.64</td>\n",
       "      <td>1.04</td>\n",
       "      <td>3.92</td>\n",
       "      <td>1065.0</td>\n",
       "    </tr>\n",
       "    <tr>\n",
       "      <th>1</th>\n",
       "      <td>13.20</td>\n",
       "      <td>1.78</td>\n",
       "      <td>2.14</td>\n",
       "      <td>11.2</td>\n",
       "      <td>100.0</td>\n",
       "      <td>2.65</td>\n",
       "      <td>2.76</td>\n",
       "      <td>0.26</td>\n",
       "      <td>1.28</td>\n",
       "      <td>4.38</td>\n",
       "      <td>1.05</td>\n",
       "      <td>3.40</td>\n",
       "      <td>1050.0</td>\n",
       "    </tr>\n",
       "    <tr>\n",
       "      <th>2</th>\n",
       "      <td>13.16</td>\n",
       "      <td>2.36</td>\n",
       "      <td>2.67</td>\n",
       "      <td>18.6</td>\n",
       "      <td>101.0</td>\n",
       "      <td>2.80</td>\n",
       "      <td>3.24</td>\n",
       "      <td>0.30</td>\n",
       "      <td>2.81</td>\n",
       "      <td>5.68</td>\n",
       "      <td>1.03</td>\n",
       "      <td>3.17</td>\n",
       "      <td>1185.0</td>\n",
       "    </tr>\n",
       "    <tr>\n",
       "      <th>3</th>\n",
       "      <td>14.37</td>\n",
       "      <td>1.95</td>\n",
       "      <td>2.50</td>\n",
       "      <td>16.8</td>\n",
       "      <td>113.0</td>\n",
       "      <td>3.85</td>\n",
       "      <td>3.49</td>\n",
       "      <td>0.24</td>\n",
       "      <td>2.18</td>\n",
       "      <td>7.80</td>\n",
       "      <td>0.86</td>\n",
       "      <td>3.45</td>\n",
       "      <td>1480.0</td>\n",
       "    </tr>\n",
       "    <tr>\n",
       "      <th>4</th>\n",
       "      <td>13.24</td>\n",
       "      <td>2.59</td>\n",
       "      <td>2.87</td>\n",
       "      <td>21.0</td>\n",
       "      <td>118.0</td>\n",
       "      <td>2.80</td>\n",
       "      <td>2.69</td>\n",
       "      <td>0.39</td>\n",
       "      <td>1.82</td>\n",
       "      <td>4.32</td>\n",
       "      <td>1.04</td>\n",
       "      <td>2.93</td>\n",
       "      <td>735.0</td>\n",
       "    </tr>\n",
       "  </tbody>\n",
       "</table>\n",
       "</div>"
      ],
      "text/plain": [
       "   alcohol  malic_acid   ash  alcalinity_of_ash  magnesium  total_phenols  \\\n",
       "0    14.23        1.71  2.43               15.6      127.0           2.80   \n",
       "1    13.20        1.78  2.14               11.2      100.0           2.65   \n",
       "2    13.16        2.36  2.67               18.6      101.0           2.80   \n",
       "3    14.37        1.95  2.50               16.8      113.0           3.85   \n",
       "4    13.24        2.59  2.87               21.0      118.0           2.80   \n",
       "\n",
       "   flavanoids  nonflavanoid_phenols  proanthocyanins  color_intensity   hue  \\\n",
       "0        3.06                  0.28             2.29             5.64  1.04   \n",
       "1        2.76                  0.26             1.28             4.38  1.05   \n",
       "2        3.24                  0.30             2.81             5.68  1.03   \n",
       "3        3.49                  0.24             2.18             7.80  0.86   \n",
       "4        2.69                  0.39             1.82             4.32  1.04   \n",
       "\n",
       "   od280/od315_of_diluted_wines  proline  \n",
       "0                          3.92   1065.0  \n",
       "1                          3.40   1050.0  \n",
       "2                          3.17   1185.0  \n",
       "3                          3.45   1480.0  \n",
       "4                          2.93    735.0  "
      ]
     },
     "execution_count": 4,
     "metadata": {},
     "output_type": "execute_result"
    }
   ],
   "source": [
    "bcdf.columns\n",
    "bcdf.head()       # 데이터 프레임 활용"
   ]
  },
  {
   "cell_type": "code",
   "execution_count": 5,
   "id": "protecting-point",
   "metadata": {
    "scrolled": true
   },
   "outputs": [
    {
     "data": {
      "text/html": [
       "<div>\n",
       "<style scoped>\n",
       "    .dataframe tbody tr th:only-of-type {\n",
       "        vertical-align: middle;\n",
       "    }\n",
       "\n",
       "    .dataframe tbody tr th {\n",
       "        vertical-align: top;\n",
       "    }\n",
       "\n",
       "    .dataframe thead th {\n",
       "        text-align: right;\n",
       "    }\n",
       "</style>\n",
       "<table border=\"1\" class=\"dataframe\">\n",
       "  <thead>\n",
       "    <tr style=\"text-align: right;\">\n",
       "      <th></th>\n",
       "      <th>alcohol</th>\n",
       "      <th>malic_acid</th>\n",
       "      <th>ash</th>\n",
       "      <th>alcalinity_of_ash</th>\n",
       "      <th>magnesium</th>\n",
       "      <th>total_phenols</th>\n",
       "      <th>flavanoids</th>\n",
       "      <th>nonflavanoid_phenols</th>\n",
       "      <th>proanthocyanins</th>\n",
       "      <th>color_intensity</th>\n",
       "      <th>hue</th>\n",
       "      <th>od280/od315_of_diluted_wines</th>\n",
       "      <th>proline</th>\n",
       "    </tr>\n",
       "  </thead>\n",
       "  <tbody>\n",
       "    <tr>\n",
       "      <th>count</th>\n",
       "      <td>178.000000</td>\n",
       "      <td>178.000000</td>\n",
       "      <td>178.000000</td>\n",
       "      <td>178.000000</td>\n",
       "      <td>178.000000</td>\n",
       "      <td>178.000000</td>\n",
       "      <td>178.000000</td>\n",
       "      <td>178.000000</td>\n",
       "      <td>178.000000</td>\n",
       "      <td>178.000000</td>\n",
       "      <td>178.000000</td>\n",
       "      <td>178.000000</td>\n",
       "      <td>178.000000</td>\n",
       "    </tr>\n",
       "    <tr>\n",
       "      <th>mean</th>\n",
       "      <td>13.000618</td>\n",
       "      <td>2.336348</td>\n",
       "      <td>2.366517</td>\n",
       "      <td>19.494944</td>\n",
       "      <td>99.741573</td>\n",
       "      <td>2.295112</td>\n",
       "      <td>2.029270</td>\n",
       "      <td>0.361854</td>\n",
       "      <td>1.590899</td>\n",
       "      <td>5.058090</td>\n",
       "      <td>0.957449</td>\n",
       "      <td>2.611685</td>\n",
       "      <td>746.893258</td>\n",
       "    </tr>\n",
       "    <tr>\n",
       "      <th>std</th>\n",
       "      <td>0.811827</td>\n",
       "      <td>1.117146</td>\n",
       "      <td>0.274344</td>\n",
       "      <td>3.339564</td>\n",
       "      <td>14.282484</td>\n",
       "      <td>0.625851</td>\n",
       "      <td>0.998859</td>\n",
       "      <td>0.124453</td>\n",
       "      <td>0.572359</td>\n",
       "      <td>2.318286</td>\n",
       "      <td>0.228572</td>\n",
       "      <td>0.709990</td>\n",
       "      <td>314.907474</td>\n",
       "    </tr>\n",
       "    <tr>\n",
       "      <th>min</th>\n",
       "      <td>11.030000</td>\n",
       "      <td>0.740000</td>\n",
       "      <td>1.360000</td>\n",
       "      <td>10.600000</td>\n",
       "      <td>70.000000</td>\n",
       "      <td>0.980000</td>\n",
       "      <td>0.340000</td>\n",
       "      <td>0.130000</td>\n",
       "      <td>0.410000</td>\n",
       "      <td>1.280000</td>\n",
       "      <td>0.480000</td>\n",
       "      <td>1.270000</td>\n",
       "      <td>278.000000</td>\n",
       "    </tr>\n",
       "    <tr>\n",
       "      <th>25%</th>\n",
       "      <td>12.362500</td>\n",
       "      <td>1.602500</td>\n",
       "      <td>2.210000</td>\n",
       "      <td>17.200000</td>\n",
       "      <td>88.000000</td>\n",
       "      <td>1.742500</td>\n",
       "      <td>1.205000</td>\n",
       "      <td>0.270000</td>\n",
       "      <td>1.250000</td>\n",
       "      <td>3.220000</td>\n",
       "      <td>0.782500</td>\n",
       "      <td>1.937500</td>\n",
       "      <td>500.500000</td>\n",
       "    </tr>\n",
       "    <tr>\n",
       "      <th>50%</th>\n",
       "      <td>13.050000</td>\n",
       "      <td>1.865000</td>\n",
       "      <td>2.360000</td>\n",
       "      <td>19.500000</td>\n",
       "      <td>98.000000</td>\n",
       "      <td>2.355000</td>\n",
       "      <td>2.135000</td>\n",
       "      <td>0.340000</td>\n",
       "      <td>1.555000</td>\n",
       "      <td>4.690000</td>\n",
       "      <td>0.965000</td>\n",
       "      <td>2.780000</td>\n",
       "      <td>673.500000</td>\n",
       "    </tr>\n",
       "    <tr>\n",
       "      <th>75%</th>\n",
       "      <td>13.677500</td>\n",
       "      <td>3.082500</td>\n",
       "      <td>2.557500</td>\n",
       "      <td>21.500000</td>\n",
       "      <td>107.000000</td>\n",
       "      <td>2.800000</td>\n",
       "      <td>2.875000</td>\n",
       "      <td>0.437500</td>\n",
       "      <td>1.950000</td>\n",
       "      <td>6.200000</td>\n",
       "      <td>1.120000</td>\n",
       "      <td>3.170000</td>\n",
       "      <td>985.000000</td>\n",
       "    </tr>\n",
       "    <tr>\n",
       "      <th>max</th>\n",
       "      <td>14.830000</td>\n",
       "      <td>5.800000</td>\n",
       "      <td>3.230000</td>\n",
       "      <td>30.000000</td>\n",
       "      <td>162.000000</td>\n",
       "      <td>3.880000</td>\n",
       "      <td>5.080000</td>\n",
       "      <td>0.660000</td>\n",
       "      <td>3.580000</td>\n",
       "      <td>13.000000</td>\n",
       "      <td>1.710000</td>\n",
       "      <td>4.000000</td>\n",
       "      <td>1680.000000</td>\n",
       "    </tr>\n",
       "  </tbody>\n",
       "</table>\n",
       "</div>"
      ],
      "text/plain": [
       "          alcohol  malic_acid         ash  alcalinity_of_ash   magnesium  \\\n",
       "count  178.000000  178.000000  178.000000         178.000000  178.000000   \n",
       "mean    13.000618    2.336348    2.366517          19.494944   99.741573   \n",
       "std      0.811827    1.117146    0.274344           3.339564   14.282484   \n",
       "min     11.030000    0.740000    1.360000          10.600000   70.000000   \n",
       "25%     12.362500    1.602500    2.210000          17.200000   88.000000   \n",
       "50%     13.050000    1.865000    2.360000          19.500000   98.000000   \n",
       "75%     13.677500    3.082500    2.557500          21.500000  107.000000   \n",
       "max     14.830000    5.800000    3.230000          30.000000  162.000000   \n",
       "\n",
       "       total_phenols  flavanoids  nonflavanoid_phenols  proanthocyanins  \\\n",
       "count     178.000000  178.000000            178.000000       178.000000   \n",
       "mean        2.295112    2.029270              0.361854         1.590899   \n",
       "std         0.625851    0.998859              0.124453         0.572359   \n",
       "min         0.980000    0.340000              0.130000         0.410000   \n",
       "25%         1.742500    1.205000              0.270000         1.250000   \n",
       "50%         2.355000    2.135000              0.340000         1.555000   \n",
       "75%         2.800000    2.875000              0.437500         1.950000   \n",
       "max         3.880000    5.080000              0.660000         3.580000   \n",
       "\n",
       "       color_intensity         hue  od280/od315_of_diluted_wines      proline  \n",
       "count       178.000000  178.000000                    178.000000   178.000000  \n",
       "mean          5.058090    0.957449                      2.611685   746.893258  \n",
       "std           2.318286    0.228572                      0.709990   314.907474  \n",
       "min           1.280000    0.480000                      1.270000   278.000000  \n",
       "25%           3.220000    0.782500                      1.937500   500.500000  \n",
       "50%           4.690000    0.965000                      2.780000   673.500000  \n",
       "75%           6.200000    1.120000                      3.170000   985.000000  \n",
       "max          13.000000    1.710000                      4.000000  1680.000000  "
      ]
     },
     "execution_count": 5,
     "metadata": {},
     "output_type": "execute_result"
    }
   ],
   "source": [
    "bcdf.describe()   # 데이터 프레임으로 위 코드에 대한 통계"
   ]
  },
  {
   "cell_type": "code",
   "execution_count": 6,
   "id": "increasing-medicine",
   "metadata": {},
   "outputs": [
    {
     "name": "stdout",
     "output_type": "stream",
     "text": [
      "데이터 설명 :  .. _wine_dataset:\n",
      "\n",
      "Wine recognition dataset\n",
      "------------------------\n",
      "\n",
      "**Data Set Characteristics:**\n",
      "\n",
      "    :Number of Instances: 178 (50 in each of three classes)\n",
      "    :Number of Attributes: 13 numeric, predictive attributes and the class\n",
      "    :Attribute Information:\n",
      " \t\t- Alcohol\n",
      " \t\t- Malic acid\n",
      " \t\t- Ash\n",
      "\t\t- Alcalinity of ash  \n",
      " \t\t- Magnesium\n",
      "\t\t- Total phenols\n",
      " \t\t- Flavanoids\n",
      " \t\t- Nonflavanoid phenols\n",
      " \t\t- Proanthocyanins\n",
      "\t\t- Color intensity\n",
      " \t\t- Hue\n",
      " \t\t- OD280/OD315 of diluted wines\n",
      " \t\t- Proline\n",
      "\n",
      "    - class:\n",
      "            - class_0\n",
      "            - class_1\n",
      "            - class_2\n",
      "\t\t\n",
      "    :Summary Statistics:\n",
      "    \n",
      "    ============================= ==== ===== ======= =====\n",
      "                                   Min   Max   Mean     SD\n",
      "    ============================= ==== ===== ======= =====\n",
      "    Alcohol:                      11.0  14.8    13.0   0.8\n",
      "    Malic Acid:                   0.74  5.80    2.34  1.12\n",
      "    Ash:                          1.36  3.23    2.36  0.27\n",
      "    Alcalinity of Ash:            10.6  30.0    19.5   3.3\n",
      "    Magnesium:                    70.0 162.0    99.7  14.3\n",
      "    Total Phenols:                0.98  3.88    2.29  0.63\n",
      "    Flavanoids:                   0.34  5.08    2.03  1.00\n",
      "    Nonflavanoid Phenols:         0.13  0.66    0.36  0.12\n",
      "    Proanthocyanins:              0.41  3.58    1.59  0.57\n",
      "    Colour Intensity:              1.3  13.0     5.1   2.3\n",
      "    Hue:                          0.48  1.71    0.96  0.23\n",
      "    OD280/OD315 of diluted wines: 1.27  4.00    2.61  0.71\n",
      "    Proline:                       278  1680     746   315\n",
      "    ============================= ==== ===== ======= =====\n",
      "\n",
      "    :Missing Attribute Values: None\n",
      "    :Class Distribution: class_0 (59), class_1 (71), class_2 (48)\n",
      "    :Creator: R.A. Fisher\n",
      "    :Donor: Michael Marshall (MARSHALL%PLU@io.arc.nasa.gov)\n",
      "    :Date: July, 1988\n",
      "\n",
      "This is a copy of UCI ML Wine recognition datasets.\n",
      "https://archive.ics.uci.edu/ml/machine-learning-databases/wine/wine.data\n",
      "\n",
      "The data is the results of a chemical analysis of wines grown in the same\n",
      "region in Italy by three different cultivators. There are thirteen different\n",
      "measurements taken for different constituents found in the three types of\n",
      "wine.\n",
      "\n",
      "Original Owners: \n",
      "\n",
      "Forina, M. et al, PARVUS - \n",
      "An Extendible Package for Data Exploration, Classification and Correlation. \n",
      "Institute of Pharmaceutical and Food Analysis and Technologies,\n",
      "Via Brigata Salerno, 16147 Genoa, Italy.\n",
      "\n",
      "Citation:\n",
      "\n",
      "Lichman, M. (2013). UCI Machine Learning Repository\n",
      "[https://archive.ics.uci.edu/ml]. Irvine, CA: University of California,\n",
      "School of Information and Computer Science. \n",
      "\n",
      ".. topic:: References\n",
      "\n",
      "  (1) S. Aeberhard, D. Coomans and O. de Vel, \n",
      "  Comparison of Classifiers in High Dimensional Settings, \n",
      "  Tech. Rep. no. 92-02, (1992), Dept. of Computer Science and Dept. of  \n",
      "  Mathematics and Statistics, James Cook University of North Queensland. \n",
      "  (Also submitted to Technometrics). \n",
      "\n",
      "  The data was used with many others for comparing various \n",
      "  classifiers. The classes are separable, though only RDA \n",
      "  has achieved 100% correct classification. \n",
      "  (RDA : 100%, QDA 99.4%, LDA 98.9%, 1NN 96.1% (z-transformed data)) \n",
      "  (All results using the leave-one-out technique) \n",
      "\n",
      "  (2) S. Aeberhard, D. Coomans and O. de Vel, \n",
      "  \"THE CLASSIFICATION PERFORMANCE OF RDA\" \n",
      "  Tech. Rep. no. 92-01, (1992), Dept. of Computer Science and Dept. of \n",
      "  Mathematics and Statistics, James Cook University of North Queensland. \n",
      "  (Also submitted to Journal of Chemometrics).\n",
      " \n",
      "\n"
     ]
    }
   ],
   "source": [
    "print('데이터 설명 : ',wine.DESCR,'\\n') # 데이터에 설명"
   ]
  },
  {
   "cell_type": "markdown",
   "id": "processed-qualification",
   "metadata": {},
   "source": [
    "### 4. 데이터 분할"
   ]
  },
  {
   "cell_type": "code",
   "execution_count": 7,
   "id": "hindu-criterion",
   "metadata": {},
   "outputs": [
    {
     "name": "stdout",
     "output_type": "stream",
     "text": [
      "number of X_train: 142 number of X_test: 36\n",
      "(142, 13) (142,)\n",
      "(36, 13) (36,)\n"
     ]
    }
   ],
   "source": [
    "# 데이터 분할\n",
    "x_train,x_test,y_train,y_test = train_test_split(wine_data,\n",
    "                                                 wine_target,\n",
    "                                                 test_size=0.2,\n",
    "                                                 random_state=13)\n",
    "print('number of X_train:', len(x_train), 'number of X_test:', len(x_test))\n",
    "print(x_train.shape, y_train.shape)\n",
    "print(x_test.shape, y_test.shape)"
   ]
  },
  {
   "cell_type": "markdown",
   "id": "reliable-israel",
   "metadata": {},
   "source": [
    "- 테스트,훈련 데이터 분할 및 분할 갯수 확인"
   ]
  },
  {
   "cell_type": "markdown",
   "id": "pleased-columbus",
   "metadata": {},
   "source": [
    "### 5. 모델 정의"
   ]
  },
  {
   "cell_type": "code",
   "execution_count": 8,
   "id": "indirect-kentucky",
   "metadata": {},
   "outputs": [],
   "source": [
    "# 모델 정의\n",
    "decision_tree = DecisionTreeClassifier(random_state=16)\n",
    "sgd_model = SGDClassifier(random_state=16)\n",
    "logistic_model = LogisticRegression(random_state=16,solver='liblinear',max_iter=30000)\n",
    "random_forest = RandomForestClassifier(random_state=16)\n",
    "svm_model = svm.SVC(random_state=16)"
   ]
  },
  {
   "cell_type": "markdown",
   "id": "prostate-ghana",
   "metadata": {},
   "source": [
    "- 각 시드를 16으로 조정하여 결과값 고정\n",
    "- solver : 최적화 문제에 사용하는 알고리즘 max_iter : 계산에 사용할 작업 수"
   ]
  },
  {
   "cell_type": "markdown",
   "id": "headed-bulletin",
   "metadata": {},
   "source": [
    "### 6. 각 모델별 훈련 및 예측"
   ]
  },
  {
   "cell_type": "code",
   "execution_count": 11,
   "id": "asian-ethnic",
   "metadata": {},
   "outputs": [
    {
     "name": "stdout",
     "output_type": "stream",
     "text": [
      "[Decision Tree Classifier]\n",
      "\n",
      "               precision    recall  f1-score   support\n",
      "\n",
      "           0       0.86      1.00      0.92        12\n",
      "           1       0.93      0.87      0.90        15\n",
      "           2       1.00      0.89      0.94         9\n",
      "\n",
      "    accuracy                           0.92        36\n",
      "   macro avg       0.93      0.92      0.92        36\n",
      "weighted avg       0.92      0.92      0.92        36\n",
      "\n",
      "\n",
      "\n",
      "[SGD Classifier]\n",
      "\n",
      "               precision    recall  f1-score   support\n",
      "\n",
      "           0       0.69      0.92      0.79        12\n",
      "           1       0.65      0.87      0.74        15\n",
      "           2       0.00      0.00      0.00         9\n",
      "\n",
      "    accuracy                           0.67        36\n",
      "   macro avg       0.45      0.59      0.51        36\n",
      "weighted avg       0.50      0.67      0.57        36\n",
      "\n",
      "\n",
      "\n",
      "[Logistic Regression Classifier]\n",
      "\n",
      "               precision    recall  f1-score   support\n",
      "\n",
      "           0       1.00      1.00      1.00        12\n",
      "           1       0.94      1.00      0.97        15\n",
      "           2       1.00      0.89      0.94         9\n",
      "\n",
      "    accuracy                           0.97        36\n",
      "   macro avg       0.98      0.96      0.97        36\n",
      "weighted avg       0.97      0.97      0.97        36\n",
      "\n",
      "\n",
      "\n",
      "[Random Forest Classifier]\n",
      "\n",
      "               precision    recall  f1-score   support\n",
      "\n",
      "           0       1.00      1.00      1.00        12\n",
      "           1       1.00      1.00      1.00        15\n",
      "           2       1.00      1.00      1.00         9\n",
      "\n",
      "    accuracy                           1.00        36\n",
      "   macro avg       1.00      1.00      1.00        36\n",
      "weighted avg       1.00      1.00      1.00        36\n",
      "\n",
      "\n",
      "\n",
      "[SVM Classifier]\n",
      "\n",
      "               precision    recall  f1-score   support\n",
      "\n",
      "           0       1.00      1.00      1.00        12\n",
      "           1       0.73      0.73      0.73        15\n",
      "           2       0.56      0.56      0.56         9\n",
      "\n",
      "    accuracy                           0.78        36\n",
      "   macro avg       0.76      0.76      0.76        36\n",
      "weighted avg       0.78      0.78      0.78        36\n",
      "\n"
     ]
    },
    {
     "name": "stderr",
     "output_type": "stream",
     "text": [
      "/opt/conda/lib/python3.7/site-packages/sklearn/metrics/_classification.py:1221: UndefinedMetricWarning: Precision and F-score are ill-defined and being set to 0.0 in labels with no predicted samples. Use `zero_division` parameter to control this behavior.\n",
      "  _warn_prf(average, modifier, msg_start, len(result))\n"
     ]
    }
   ],
   "source": [
    "wine_accuracy = {}\n",
    "\n",
    "# \n",
    "decision_tree.fit(x_train,y_train)\n",
    "y_pred = decision_tree.predict(x_test)\n",
    "print('[Decision Tree Classifier]\\n\\n',classification_report(y_test,y_pred))\n",
    "wine_accuracy['Decision Tree Classifier'] = accuracy_score(y_test,y_pred)\n",
    "\n",
    "sgd_model.fit(x_train,y_train)\n",
    "y_pred = sgd_model.predict(x_test)\n",
    "print('\\n\\n[SGD Classifier]\\n\\n',classification_report(y_test,y_pred))\n",
    "wine_accuracy['SGD Classifier'] = accuracy_score(y_test,y_pred)\n",
    "\n",
    "logistic_model.fit(x_train,y_train)\n",
    "y_pred = logistic_model.predict(x_test)\n",
    "print('\\n\\n[Logistic Regression Classifier]\\n\\n',classification_report(y_test,y_pred,labels=np.unique(y_pred))) # ,한 번 예측 될  경우 관심없음\n",
    "wine_accuracy['Logistic Regression Classifier'] = accuracy_score(y_test,y_pred)\n",
    "\n",
    "random_forest.fit(x_train,y_train)\n",
    "y_pred = random_forest.predict(x_test)\n",
    "print('\\n\\n[Random Forest Classifier]\\n\\n',classification_report(y_test,y_pred))\n",
    "wine_accuracy['Random Forest Classifier'] = accuracy_score(y_test,y_pred)\n",
    "\n",
    "svm_model.fit(x_train,y_train)\n",
    "y_pred = svm_model.predict(x_test)\n",
    "print('\\n\\n[SVM Classifier]\\n\\n',classification_report(y_test,y_pred))\n",
    "wine_accuracy['SVM Classifier'] = accuracy_score(y_test,y_pred)\n"
   ]
  },
  {
   "cell_type": "code",
   "execution_count": 12,
   "id": "eligible-administrator",
   "metadata": {},
   "outputs": [
    {
     "name": "stdout",
     "output_type": "stream",
     "text": [
      "Decision Tree Classifier : 0.9166666666666666\n",
      "SGD Classifier       : 0.6666666666666666\n",
      "Logistic Regression Classifier : 0.9722222222222222\n",
      "Random Forest Classifier : 1.0\n",
      "SVM Classifier       : 0.7777777777777778\n"
     ]
    }
   ],
   "source": [
    "for i in wine_accuracy.items():\n",
    "    print(f\"{i[0]:<20} : {i[1]}\")\n",
    "    "
   ]
  },
  {
   "cell_type": "markdown",
   "id": "hungry-machinery",
   "metadata": {},
   "source": [
    "- 단순히 정확도를 기준으로 보면 Random Forest Classifier 모델이 가장 높게 나왔다.\n",
    "- 하지만 더 다양한 측정 기준을 사용해보자"
   ]
  },
  {
   "cell_type": "code",
   "execution_count": 14,
   "id": "wrapped-possibility",
   "metadata": {
    "scrolled": true
   },
   "outputs": [
    {
     "data": {
      "text/plain": [
       "<sklearn.metrics._plot.confusion_matrix.ConfusionMatrixDisplay at 0x7f944542ce90>"
      ]
     },
     "execution_count": 14,
     "metadata": {},
     "output_type": "execute_result"
    },
    {
     "data": {
      "image/png": "[encoded data removed]",
      "text/plain": [
       "<Figure size 432x288 with 2 Axes>"
      ]
     },
     "metadata": {
      "needs_background": "light"
     },
     "output_type": "display_data"
    }
   ],
   "source": [
    "from sklearn.metrics import plot_confusion_matrix\n",
    "import matplotlib.pyplot as plt\n",
    "\n",
    "plot_confusion_matrix(random_forest, x_test, y_test, values_format='d',display_labels=wine.target_names,cmap=plt.cm.Reds)"
   ]
  },
  {
   "cell_type": "markdown",
   "id": "cheap-scroll",
   "metadata": {},
   "source": [
    "- Confusion matrix를 시각화 한 결과이다\n",
    "    \n",
    "    클래스 0~2까지 예측한 결과값으로 현재 데이터로 봤을때 class_1이 가장 높게 측정된다"
   ]
  },
  {
   "cell_type": "markdown",
   "id": "clean-gross",
   "metadata": {},
   "source": [
    "## 7.프로젝트 정리\n",
    "\n",
    "     와인 클래스 예측에 경우 라벨을 맞추는 과정이 중요한 것 같다. 손글씨와 같이 가장 중간값이 높게 측정되었다\n",
    "    \n",
    "     정확도면에서 다른 모델보다 우수했던 Random_Forest의 경우 정확도 말고도 다른 결과도 타 모델에 비해 우수한 성적이 나왔음으로\n",
    "     와인 클래스 예측은 Random_Forest 모델을 5개의 모델중 추천한다.\n",
    "     \n",
    "     시각화와 전처리,성능평가에 관해 보다 많은것을 배울 수 있었고 많은것을 생각할 수 있게 만들던 파트였다. scikit-learn 데이터 덕분에\n",
    "     좀 더 수월하게 모델들을 학습할 수 있었던 계기가 되었던것같다."
   ]
  }
 ],
 "metadata": {
  "kernelspec": {
   "display_name": "Python 3",
   "language": "python",
   "name": "python3"
  },
  "language_info": {
   "codemirror_mode": {
    "name": "ipython",
    "version": 3
   },
   "file_extension": ".py",
   "mimetype": "text/x-python",
   "name": "python",
   "nbconvert_exporter": "python",
   "pygments_lexer": "ipython3",
   "version": "3.7.9"
  }
 },
 "nbformat": 4,
 "nbformat_minor": 5
}
