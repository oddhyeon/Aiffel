{
 "cells": [
  {
   "cell_type": "markdown",
   "id": "italic-colors",
   "metadata": {},
   "source": [
    "# 작사가 만들기\n",
    "## RNN을 활용하여 작사가를 만들어보자!"
   ]
  },
  {
   "cell_type": "code",
   "execution_count": 33,
   "id": "injured-fireplace",
   "metadata": {},
   "outputs": [],
   "source": [
    "import os, re \n",
    "import numpy as np\n",
    "import tensorflow as tf\n",
    "from sklearn.model_selection import train_test_split\n",
    "import glob\n",
    "import seaborn as sns"
   ]
  },
  {
   "cell_type": "markdown",
   "id": "beautiful-joyce",
   "metadata": {},
   "source": [
    "## 데이터 불러오기"
   ]
  },
  {
   "cell_type": "code",
   "execution_count": 3,
   "id": "surprising-collectible",
   "metadata": {},
   "outputs": [
    {
     "name": "stdout",
     "output_type": "stream",
     "text": [
      "데이터 크기: 187088\n",
      "Examples:\n",
      " ['[Hook]', \"I've been down so long, it look like up to me\", 'They look up to me', \"I got fake people showin' fake love to me\", 'Straight up to my face, straight up to my face', \"I've been down so long, it look like up to me\", 'They look up to me', \"I got fake people showin' fake love to me\", 'Straight up to my face, straight up to my face [Verse 1]', \"Somethin' ain't right when we talkin'\"]\n"
     ]
    }
   ],
   "source": [
    "txt_file_path = os.getenv('HOME')+'/aiffel/lyricist/data/lyrics/*'\n",
    "\n",
    "txt_list = glob.glob(txt_file_path)\n",
    "\n",
    "raw_corpus = []\n",
    "\n",
    "# 여러개의 txt 파일을 모두 읽어서 raw_corpus 에 담습니다.\n",
    "for txt_file in txt_list:\n",
    "    with open(txt_file, \"r\") as f:\n",
    "        raw = f.read().splitlines()\n",
    "        raw_corpus.extend(raw)\n",
    "\n",
    "print(\"데이터 크기:\", len(raw_corpus))\n",
    "print(\"Examples:\\n\", raw_corpus[:10])"
   ]
  },
  {
   "cell_type": "markdown",
   "id": "lonely-nurse",
   "metadata": {},
   "source": [
    "## 문장 전처리"
   ]
  },
  {
   "cell_type": "code",
   "execution_count": 4,
   "id": "departmental-right",
   "metadata": {},
   "outputs": [],
   "source": [
    "def preprocess_sentence(sentence):\n",
    "    sentence = sentence.lower().strip() # 1\n",
    "    sentence = re.sub(r\"([?.!,¿])\", r\" \\1 \", sentence) # 2\n",
    "    sentence = re.sub(r'[\" \"]+', \" \", sentence) # 3\n",
    "    sentence = re.sub(r\"[^a-zA-Z?.!,¿]+\", \" \", sentence) # 4\n",
    "    sentence = sentence.strip() # 5\n",
    "    sentence = '<start> ' + sentence + ' <end>' # 6\n",
    "    return sentence"
   ]
  },
  {
   "cell_type": "markdown",
   "id": "declared-cincinnati",
   "metadata": {},
   "source": [
    "## 정제된 문장 모음"
   ]
  },
  {
   "cell_type": "code",
   "execution_count": 5,
   "id": "special-percentage",
   "metadata": {},
   "outputs": [
    {
     "data": {
      "text/plain": [
       "['<start> i ve been down so long , it look like up to me <end>',\n",
       " '<start> they look up to me <end>',\n",
       " '<start> i got fake people showin fake love to me <end>',\n",
       " '<start> straight up to my face , straight up to my face <end>',\n",
       " '<start> i ve been down so long , it look like up to me <end>',\n",
       " '<start> they look up to me <end>',\n",
       " '<start> i got fake people showin fake love to me <end>',\n",
       " '<start> somethin ain t right when we talkin <end>',\n",
       " '<start> somethin ain t right when we talkin <end>',\n",
       " '<start> look like you hidin your problems <end>']"
      ]
     },
     "execution_count": 5,
     "metadata": {},
     "output_type": "execute_result"
    }
   ],
   "source": [
    "# 여기에 정제된 문장을 모을겁니다\n",
    "corpus = []\n",
    "\n",
    "for sentence in raw_corpus:\n",
    "    # 우리가 원하지 않는 문장은 건너뜁니다\n",
    "    if len(sentence) == 0: continue\n",
    "    if sentence[-1] == \"]\": continue\n",
    "    if sentence[-1] == \")\": continue\n",
    "    \n",
    "    # 정제를 하고 담아주세요\n",
    "    preprocessed_sentence = preprocess_sentence(sentence)\n",
    "    if preprocessed_sentence.count(\" \") >= 15:\n",
    "            continue\n",
    "    corpus.append(preprocessed_sentence)\n",
    "    \n",
    "# 정제된 결과를 10개만 확인해보죠\n",
    "corpus[:10]"
   ]
  },
  {
   "cell_type": "markdown",
   "id": "color-mounting",
   "metadata": {},
   "source": [
    "## 3. 텐서플로우 활용을 위한 토큰화"
   ]
  },
  {
   "cell_type": "code",
   "execution_count": 6,
   "id": "realistic-greek",
   "metadata": {},
   "outputs": [
    {
     "name": "stdout",
     "output_type": "stream",
     "text": [
      "[[   2    4   92 ...   10   12    3]\n",
      " [   2   37  134 ...    0    0    0]\n",
      " [   2    4   36 ...    0    0    0]\n",
      " ...\n",
      " [   2   87  694 ...    0    0    0]\n",
      " [   2  204    3 ...    0    0    0]\n",
      " [   2    9 1525 ...    0    0    0]] <keras_preprocessing.text.Tokenizer object at 0x7fe72eada510>\n"
     ]
    },
    {
     "data": {
      "text/plain": [
       "(148425, 15)"
      ]
     },
     "execution_count": 6,
     "metadata": {},
     "output_type": "execute_result"
    }
   ],
   "source": [
    "def tokenize(corpus):\n",
    "    tokenizer = tf.keras.preprocessing.text.Tokenizer(\n",
    "        num_words=12000, \n",
    "        filters=' ',\n",
    "        oov_token=\"<unk>\"\n",
    "    )\n",
    "    # corpus를 이용해 tokenizer 내부의 단어장을 완성합니다\n",
    "    tokenizer.fit_on_texts(corpus)\n",
    "    # 준비한 tokenizer를 이용해 corpus를 Tensor로 변환합니다\n",
    "    tensor = tokenizer.texts_to_sequences(corpus)   \n",
    "    # 입력 데이터의 시퀀스 길이를 일정하게 맞춰줍니다\n",
    "    # 만약 시퀀스가 짧다면 문장 뒤에 패딩을 붙여 길이를 맞춰줍니다.\n",
    "    # 문장 앞에 패딩을 붙여 길이를 맞추고 싶다면 padding='pre'를 사용합니다\n",
    "    tensor = tf.keras.preprocessing.sequence.pad_sequences(tensor, padding='post')  \n",
    "    \n",
    "    print(tensor,tokenizer)\n",
    "    return tensor, tokenizer\n",
    "\n",
    "tensor, tokenizer = tokenize(corpus)\n",
    "tensor.shape"
   ]
  },
  {
   "cell_type": "code",
   "execution_count": 7,
   "id": "toxic-blame",
   "metadata": {
    "scrolled": false
   },
   "outputs": [
    {
     "name": "stdout",
     "output_type": "stream",
     "text": [
      "[[   2    4   92  104   58   31  164    5   11  134]\n",
      " [   2   37  134   30   10   12    3    0    0    0]\n",
      " [   2    4   36  798  170 2348  798   38   10   12]]\n"
     ]
    }
   ],
   "source": [
    "print(tensor[:3, :10])"
   ]
  },
  {
   "cell_type": "code",
   "execution_count": 8,
   "id": "signed-finger",
   "metadata": {
    "scrolled": true
   },
   "outputs": [
    {
     "name": "stdout",
     "output_type": "stream",
     "text": [
      "1 : <unk>\n",
      "2 : <start>\n",
      "3 : <end>\n",
      "4 : i\n",
      "5 : ,\n",
      "6 : the\n",
      "7 : you\n",
      "8 : and\n",
      "9 : a\n",
      "10 : to\n"
     ]
    }
   ],
   "source": [
    "for idx in tokenizer.index_word:\n",
    "    print(idx, \":\", tokenizer.index_word[idx])  # 단어사전 내용 확인\n",
    "    if idx >= 10: break"
   ]
  },
  {
   "cell_type": "markdown",
   "id": "criminal-sellers",
   "metadata": {},
   "source": [
    "## 4. 텐서플로우 활용을 위한: data 분리"
   ]
  },
  {
   "cell_type": "code",
   "execution_count": 9,
   "id": "incorrect-tomato",
   "metadata": {},
   "outputs": [],
   "source": [
    "src_input = tensor[:, :-1]\n",
    "tgt_input = tensor[:, 1:]  "
   ]
  },
  {
   "cell_type": "code",
   "execution_count": 10,
   "id": "still-semiconductor",
   "metadata": {},
   "outputs": [
    {
     "name": "stdout",
     "output_type": "stream",
     "text": [
      "Source Train: (118740, 14)\n",
      "Target Train: (103897, 14)\n"
     ]
    }
   ],
   "source": [
    "sou_train, sou_val, tar_train, tar_val = train_test_split(src_input, tgt_input, test_size=0.2)\n",
    "sou_val_train1, tar_val_val1, sou_val_train2, tar_val_val2 = train_test_split(sou_train, tar_train, test_size = 0.125 , random_state = 2)\n",
    "print(\"Source Train:\", sou_train.shape)\n",
    "print(\"Target Train:\", sou_val_train1.shape)"
   ]
  },
  {
   "cell_type": "markdown",
   "id": "overall-tissue",
   "metadata": {},
   "source": [
    "# 모델 정의 및 학습"
   ]
  },
  {
   "cell_type": "code",
   "execution_count": 11,
   "id": "consistent-purchase",
   "metadata": {},
   "outputs": [
    {
     "data": {
      "text/plain": [
       "<BatchDataset shapes: ((256, 14), (256, 14)), types: (tf.int32, tf.int32)>"
      ]
     },
     "execution_count": 11,
     "metadata": {},
     "output_type": "execute_result"
    }
   ],
   "source": [
    "BUFFER_SIZE = len(src_input)\n",
    "BATCH_SIZE = 256\n",
    "steps_per_epoch = len(src_input) // BATCH_SIZE\n",
    "\n",
    " # tokenizer가 구축한 단어사전 내 7000개와, 여기 포함되지 않은 0:<pad>를 포함하여 7001개\n",
    "VOCAB_SIZE = tokenizer.num_words + 1   \n",
    "\n",
    "# 준비한 데이터 소스로부터 데이터셋을 만듭니다\n",
    "# 데이터셋에 대해서는 아래 문서를 참고하세요\n",
    "# 자세히 알아둘수록 도움이 많이 되는 중요한 문서입니다\n",
    "# https://www.tensorflow.org/api_docs/python/tf/data/Dataset\n",
    "dataset = tf.data.Dataset.from_tensor_slices((src_input, tgt_input))\n",
    "dataset = dataset.shuffle(BUFFER_SIZE)\n",
    "dataset = dataset.batch(BATCH_SIZE, drop_remainder=True)\n",
    "dataset"
   ]
  },
  {
   "cell_type": "markdown",
   "id": "organic-inspector",
   "metadata": {},
   "source": [
    "## 1. 모델 구조 정의"
   ]
  },
  {
   "cell_type": "code",
   "execution_count": 14,
   "id": "fantastic-audit",
   "metadata": {},
   "outputs": [],
   "source": [
    "class TextGenerator(tf.keras.Model):\n",
    "    def __init__(self, vocab_size, embedding_size, hidden_size):\n",
    "        super().__init__()\n",
    "        \n",
    "        self.embedding = tf.keras.layers.Embedding(vocab_size, embedding_size)\n",
    "        self.rnn_1 = tf.keras.layers.LSTM(hidden_size, return_sequences=True)\n",
    "        self.rnn_2 = tf.keras.layers.LSTM(hidden_size, return_sequences=True)\n",
    "        self.linear = tf.keras.layers.Dense(vocab_size)\n",
    "        \n",
    "    def call(self, x):\n",
    "        out = self.embedding(x)\n",
    "        out = self.rnn_1(out)\n",
    "        out = self.rnn_2(out)\n",
    "        out = self.linear(out)\n",
    "        \n",
    "        return out\n",
    "    \n",
    "embedding_size = 512\n",
    "hidden_size = 2048\n",
    "model = TextGenerator(tokenizer.num_words + 1, embedding_size , hidden_size)"
   ]
  },
  {
   "cell_type": "markdown",
   "id": "eight-casino",
   "metadata": {},
   "source": [
    "- 하나의 배치를 활용하여 데이터 확인"
   ]
  },
  {
   "cell_type": "code",
   "execution_count": 15,
   "id": "appropriate-threshold",
   "metadata": {},
   "outputs": [
    {
     "data": {
      "text/plain": [
       "<tf.Tensor: shape=(256, 14, 12001), dtype=float32, numpy=\n",
       "array([[[-2.1924695e-04,  2.5317041e-04,  5.5886958e-05, ...,\n",
       "         -3.9064602e-04,  2.0246091e-05, -1.4100794e-04],\n",
       "        [-6.6771236e-04,  3.5926930e-04, -3.0953801e-04, ...,\n",
       "         -7.6869951e-04, -3.2425180e-04,  7.7132507e-05],\n",
       "        [-8.0464530e-04,  5.5625127e-04, -4.8825322e-04, ...,\n",
       "         -1.1495085e-03, -2.9398213e-04,  1.6261476e-04],\n",
       "        ...,\n",
       "        [ 1.3465076e-03,  3.4223762e-03,  1.0563293e-04, ...,\n",
       "         -4.8130660e-04,  5.8475614e-04, -2.9172789e-04],\n",
       "        [ 1.6191355e-03,  4.2255749e-03,  8.8351168e-05, ...,\n",
       "         -1.5895034e-04,  8.2404405e-04, -2.0412206e-04],\n",
       "        [ 1.8099627e-03,  4.9723769e-03,  1.1657008e-04, ...,\n",
       "          1.5825235e-04,  1.1200962e-03, -1.3252697e-04]],\n",
       "\n",
       "       [[-2.1924695e-04,  2.5317041e-04,  5.5886958e-05, ...,\n",
       "         -3.9064602e-04,  2.0246091e-05, -1.4100794e-04],\n",
       "        [-2.2317792e-04,  3.4840190e-04,  3.8769055e-04, ...,\n",
       "         -6.9451588e-04,  3.2339524e-04, -2.7205356e-04],\n",
       "        [-8.3120489e-05,  3.1122414e-04,  3.4321062e-04, ...,\n",
       "         -4.4553084e-04,  8.6339907e-04, -2.6183054e-04],\n",
       "        ...,\n",
       "        [ 1.0295240e-05,  1.6737874e-03, -9.9626451e-04, ...,\n",
       "         -1.0939201e-03,  6.8450830e-04, -1.3849695e-03],\n",
       "        [ 3.5292390e-04,  2.5479847e-03, -1.1672591e-03, ...,\n",
       "         -9.5244392e-04,  7.7652826e-04, -1.2530340e-03],\n",
       "        [ 6.7354087e-04,  3.4804372e-03, -1.2335173e-03, ...,\n",
       "         -7.2691281e-04,  9.6137414e-04, -1.1153774e-03]],\n",
       "\n",
       "       [[-2.1924695e-04,  2.5317041e-04,  5.5886958e-05, ...,\n",
       "         -3.9064602e-04,  2.0246091e-05, -1.4100794e-04],\n",
       "        [-8.0894656e-04,  3.8564822e-04, -5.6223694e-04, ...,\n",
       "         -7.8807311e-04, -3.3403104e-04, -1.3438567e-04],\n",
       "        [-9.8152913e-04,  4.5934194e-04, -5.4783735e-04, ...,\n",
       "         -1.0743890e-03, -2.6737555e-04, -2.0798932e-04],\n",
       "        ...,\n",
       "        [-1.0610467e-03,  1.0436680e-03,  6.8080344e-04, ...,\n",
       "         -2.1980740e-03, -1.9440410e-03,  6.8976975e-04],\n",
       "        [-1.5647899e-03,  1.8196595e-03,  1.1758956e-03, ...,\n",
       "         -1.5484566e-03, -1.5143302e-03,  5.9088535e-04],\n",
       "        [-1.6085810e-03,  2.5235822e-03,  1.2709424e-03, ...,\n",
       "         -1.4041114e-03, -1.3559746e-03,  6.3636032e-04]],\n",
       "\n",
       "       ...,\n",
       "\n",
       "       [[-2.1924695e-04,  2.5317041e-04,  5.5886958e-05, ...,\n",
       "         -3.9064602e-04,  2.0246091e-05, -1.4100794e-04],\n",
       "        [-4.0753838e-04,  5.0895684e-04,  3.0456718e-05, ...,\n",
       "         -9.1950578e-04,  7.6591405e-06, -7.5177813e-05],\n",
       "        [-6.9457025e-04,  6.8697723e-04, -2.2519489e-04, ...,\n",
       "         -8.6683157e-04, -2.1823615e-04, -2.0304780e-05],\n",
       "        ...,\n",
       "        [ 5.3240574e-04, -9.6167548e-04, -2.2432471e-03, ...,\n",
       "          1.0669666e-03, -2.7434515e-05,  7.9555030e-04],\n",
       "        [ 8.5121597e-04, -5.7279778e-04, -2.2617897e-03, ...,\n",
       "          9.5079484e-04, -2.5310405e-04,  8.9563394e-04],\n",
       "        [ 1.2167252e-03,  3.2818448e-04, -2.1207281e-03, ...,\n",
       "          9.8008069e-04, -2.0813636e-04,  9.7679324e-04]],\n",
       "\n",
       "       [[-2.1924695e-04,  2.5317041e-04,  5.5886958e-05, ...,\n",
       "         -3.9064602e-04,  2.0246091e-05, -1.4100794e-04],\n",
       "        [-5.2859704e-04,  5.9678929e-04,  4.1817460e-04, ...,\n",
       "         -9.2867459e-04,  3.1983873e-04, -3.3448084e-04],\n",
       "        [-9.0316817e-04,  8.9164852e-04,  3.0180067e-04, ...,\n",
       "         -1.6741378e-03,  4.2921610e-04, -1.7650216e-04],\n",
       "        ...,\n",
       "        [ 1.3782796e-03,  3.7880633e-03, -3.8712993e-04, ...,\n",
       "         -6.9384172e-04,  1.9844952e-03, -5.6554418e-04],\n",
       "        [ 1.5478764e-03,  4.6216156e-03, -2.6425777e-04, ...,\n",
       "         -3.2664766e-04,  2.2912140e-03, -5.0515786e-04],\n",
       "        [ 1.6311203e-03,  5.3651873e-03, -1.3621188e-04, ...,\n",
       "          1.7032573e-05,  2.6052000e-03, -4.4929193e-04]],\n",
       "\n",
       "       [[-2.1924695e-04,  2.5317041e-04,  5.5886958e-05, ...,\n",
       "         -3.9064602e-04,  2.0246091e-05, -1.4100794e-04],\n",
       "        [-2.3881161e-04,  1.9710750e-04, -2.4321844e-05, ...,\n",
       "         -3.2648564e-04,  2.5215407e-04, -1.4038519e-04],\n",
       "        [ 7.6709885e-06, -2.0940870e-04,  7.5051294e-06, ...,\n",
       "          1.2845680e-04,  6.8513327e-04, -1.6733281e-04],\n",
       "        ...,\n",
       "        [ 4.3356305e-04,  3.9412249e-03, -1.3965380e-03, ...,\n",
       "         -2.8440470e-04,  2.0429096e-03,  1.0907615e-03],\n",
       "        [ 5.8163266e-04,  4.7993255e-03, -1.2097155e-03, ...,\n",
       "          3.8116879e-05,  2.2600901e-03,  9.4266073e-04],\n",
       "        [ 6.8434811e-04,  5.5572307e-03, -1.0024981e-03, ...,\n",
       "          3.5555018e-04,  2.5079933e-03,  7.9511770e-04]]], dtype=float32)>"
      ]
     },
     "execution_count": 15,
     "metadata": {},
     "output_type": "execute_result"
    }
   ],
   "source": [
    "# 데이터셋에서 데이터 한 배치만 불러오는 방법입니다.\n",
    "for src_sample, tgt_sample in dataset.take(1): break\n",
    "\n",
    "# 한 배치만 불러온 데이터를 모델에 넣어봅니다\n",
    "model(src_sample)"
   ]
  },
  {
   "cell_type": "code",
   "execution_count": 16,
   "id": "leading-theorem",
   "metadata": {
    "scrolled": false
   },
   "outputs": [
    {
     "name": "stdout",
     "output_type": "stream",
     "text": [
      "Model: \"text_generator_1\"\n",
      "_________________________________________________________________\n",
      "Layer (type)                 Output Shape              Param #   \n",
      "=================================================================\n",
      "embedding_1 (Embedding)      multiple                  6144512   \n",
      "_________________________________________________________________\n",
      "lstm_2 (LSTM)                multiple                  20979712  \n",
      "_________________________________________________________________\n",
      "lstm_3 (LSTM)                multiple                  33562624  \n",
      "_________________________________________________________________\n",
      "dense_1 (Dense)              multiple                  24590049  \n",
      "=================================================================\n",
      "Total params: 85,276,897\n",
      "Trainable params: 85,276,897\n",
      "Non-trainable params: 0\n",
      "_________________________________________________________________\n"
     ]
    }
   ],
   "source": [
    "model.summary()"
   ]
  },
  {
   "cell_type": "markdown",
   "id": "boolean-leather",
   "metadata": {},
   "source": [
    "- optimizer와 loss function 지정"
   ]
  },
  {
   "cell_type": "markdown",
   "id": "raising-density",
   "metadata": {},
   "source": [
    "### 모델 학습"
   ]
  },
  {
   "cell_type": "code",
   "execution_count": 17,
   "id": "least-issue",
   "metadata": {
    "scrolled": true
   },
   "outputs": [
    {
     "name": "stdout",
     "output_type": "stream",
     "text": [
      "Epoch 1/10\n",
      "928/928 [==============================] - 481s 516ms/step - loss: 3.5544 - val_loss: 2.7137\n",
      "Epoch 2/10\n",
      "928/928 [==============================] - 478s 515ms/step - loss: 2.6532 - val_loss: 2.2537\n",
      "Epoch 3/10\n",
      "928/928 [==============================] - 479s 516ms/step - loss: 2.2322 - val_loss: 1.8461\n",
      "Epoch 4/10\n",
      "928/928 [==============================] - 478s 515ms/step - loss: 1.8423 - val_loss: 1.5099\n",
      "Epoch 5/10\n",
      "928/928 [==============================] - 479s 516ms/step - loss: 1.5217 - val_loss: 1.2648\n",
      "Epoch 6/10\n",
      "928/928 [==============================] - 477s 514ms/step - loss: 1.2815 - val_loss: 1.1037\n",
      "Epoch 7/10\n",
      "928/928 [==============================] - 571s 615ms/step - loss: 1.1229 - val_loss: 1.0075\n",
      "Epoch 8/10\n",
      "928/928 [==============================] - 763s 822ms/step - loss: 1.0372 - val_loss: 0.9623\n",
      "Epoch 9/10\n",
      "928/928 [==============================] - 763s 822ms/step - loss: 0.9924 - val_loss: 0.9400\n",
      "Epoch 10/10\n",
      "928/928 [==============================] - 483s 520ms/step - loss: 0.9709 - val_loss: 0.9242\n"
     ]
    }
   ],
   "source": [
    "optimizer = tf.keras.optimizers.Adam()\n",
    "loss = tf.keras.losses.SparseCategoricalCrossentropy(\n",
    "    from_logits=True,\n",
    "    reduction='none'\n",
    ")\n",
    "\n",
    "model.compile(loss=loss, optimizer=optimizer)\n",
    "data1 = model.fit(sou_train,tar_train,validation_data = (tar_val_val1, tar_val_val2),batch_size=128, epochs=10)"
   ]
  },
  {
   "cell_type": "markdown",
   "id": "aquatic-commitment",
   "metadata": {},
   "source": [
    "### 우수노드를 참고하여 시각화하였습니다\n",
    "https://github.com/thk-lightman/AIFFEL_LMS_MY/blob/master/%5BE-04%5D%20Make%20a%20Lyricsht.ipynb"
   ]
  },
  {
   "cell_type": "code",
   "execution_count": 31,
   "id": "graduate-ground",
   "metadata": {},
   "outputs": [
    {
     "data": {
      "image/png": "[encoded data removed]",
      "text/plain": [
       "<Figure size 576x360 with 1 Axes>"
      ]
     },
     "metadata": {
      "needs_background": "light"
     },
     "output_type": "display_data"
    }
   ],
   "source": [
    "import matplotlib.pyplot as plt\n",
    "\n",
    "\n",
    "plt.figure(figsize=(8, 5))\n",
    "\n",
    "plt.plot(data1.history['loss'], marker='1', c='green', label='Train-set Loss')\n",
    "plt.plot(data1.history['val_loss'], marker='1', c='red', label='Validation-set Loss')\n",
    "plt.xlabel('Epoch')\n",
    "plt.legend()\n",
    "plt.show()"
   ]
  },
  {
   "cell_type": "markdown",
   "id": "infinite-recycling",
   "metadata": {},
   "source": [
    "### 문장생성"
   ]
  },
  {
   "cell_type": "code",
   "execution_count": 25,
   "id": "proud-modification",
   "metadata": {},
   "outputs": [],
   "source": [
    "def generate_text(model, tokenizer, init_sentence=\"<start>\", max_len=15):\n",
    "    # 테스트를 위해서 입력받은 init_sentence도 텐서로 변환합니다\n",
    "    test_input = tokenizer.texts_to_sequences([init_sentence])\n",
    "    test_tensor = tf.convert_to_tensor(test_input, dtype=tf.int64)\n",
    "    end_token = tokenizer.word_index[\"<end>\"]\n",
    "\n",
    "    # 단어 하나씩 예측해 문장을 만듭니다\n",
    "    #    1. 입력받은 문장의 텐서를 입력합니다\n",
    "    #    2. 예측된 값 중 가장 높은 확률인 word index를 뽑아냅니다\n",
    "    #    3. 2에서 예측된 word index를 문장 뒤에 붙입니다\n",
    "    #    4. 모델이 <end>를 예측했거나, max_len에 도달했다면 문장 생성을 마칩니다\n",
    "    while True:\n",
    "        # 1\n",
    "        predict = model(test_tensor) \n",
    "        # 2\n",
    "        predict_word = tf.argmax(tf.nn.softmax(predict, axis=-1), axis=-1)[:, -1] \n",
    "        # 3 \n",
    "        test_tensor = tf.concat([test_tensor, tf.expand_dims(predict_word, axis=0)], axis=-1)\n",
    "        # 4\n",
    "        if predict_word.numpy()[0] == end_token: break\n",
    "        if test_tensor.shape[1] >= max_len: break\n",
    "\n",
    "    generated = \"\"\n",
    "    # tokenizer를 이용해 word index를 단어로 하나씩 변환합니다 \n",
    "    for word_index in test_tensor[0].numpy():\n",
    "        generated += tokenizer.index_word[word_index] + \" \"\n",
    "\n",
    "    return generated"
   ]
  },
  {
   "cell_type": "markdown",
   "id": "random-donna",
   "metadata": {},
   "source": [
    "### 가사 생성"
   ]
  },
  {
   "cell_type": "code",
   "execution_count": 24,
   "id": "chief-aviation",
   "metadata": {},
   "outputs": [
    {
     "name": "stdout",
     "output_type": "stream",
     "text": [
      "<start> love is a feeling <end> \n",
      "<start> my love she speaks softly <end> \n",
      "<start> i m not the one you want , babe <end> \n",
      "<start> me and my mama taking over <end> \n",
      "<start> you know i love you <end> \n",
      "<start> she s got the look <end> \n",
      "<start> he s the fairest of ten thousand to my soul <end> \n",
      "<start> hello , hello , hello , how low <end> \n",
      "<start> no matter how hard i try every turn i take <end> \n",
      "<start> you must be messed up too lay your head on my pillow <end> \n",
      "<start> am i scary for you oh <end> \n",
      "<start> not to <unk> thy passion , my humility . <end> \n"
     ]
    }
   ],
   "source": [
    "keywords = ['love', 'my love', 'I','me' ,'you', 'she', 'he', 'hello', 'no', 'you must','am','not']\n",
    "for start in keywords:\n",
    "    print(generate_text(model, tokenizer, init_sentence= ' '.join([\"<start>\", start])))"
   ]
  },
  {
   "cell_type": "markdown",
   "id": "suited-filing",
   "metadata": {},
   "source": [
    "# 회고\n",
    "- 코드는 어느정도 이해 하였으나 조금더 공부가 필요할 것 같습니다..아직까지 제게 부족한 부분이 많이 보이고 코드를 실행 하면서도 이해도가 부족한 부분이 많은 것 같습니다. 하이퍼파라미터를 교체하면서 모델과 최적의 결과를 공부하는데 많은 도움이 된 것 같습니다.. 다만 모델을 실행함에 있어서 시간이 오래걸리는점이 조금 프로젝트하는데 조금에 에로사항이 아니었나 싶습니다."
   ]
  }
 ],
 "metadata": {
  "kernelspec": {
   "display_name": "Python 3",
   "language": "python",
   "name": "python3"
  },
  "language_info": {
   "codemirror_mode": {
    "name": "ipython",
    "version": 3
   },
   "file_extension": ".py",
   "mimetype": "text/x-python",
   "name": "python",
   "nbconvert_exporter": "python",
   "pygments_lexer": "ipython3",
   "version": "3.7.9"
  }
 },
 "nbformat": 4,
 "nbformat_minor": 5
}
