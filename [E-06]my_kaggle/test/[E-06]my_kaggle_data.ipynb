{
 "cells": [
  {
   "cell_type": "code",
   "execution_count": null,
   "metadata": {},
   "outputs": [],
   "source": [
    "# This Python 3 environment comes with many helpful analytics libraries installed\n",
    "# It is defined by the kaggle/python docker image: https://github.com/kaggle/docker-python\n",
    "# For example, here's several helpful packages to load in \n",
    "\n",
    "import numpy as np # linear algebra\n",
    "import pandas as pd # data processing, CSV file I/O (e.g. pd.read_csv)\n",
    "\n",
    "# Input data files are available in the \"../input/\" directory.\n",
    "# For example, running this (by clicking run or pressing Shift+Enter) will list the files in the input directory\n",
    "\n",
    "pd.options.display.max_rows = 10000\n",
    "pd.options.display.max_columns = 10000\n",
    "pd.options.display.max_colwidth = 1000\n",
    "\n",
    "import os\n",
    "import gc\n",
    "data_dir = os.getenv('HOME')+'/aiffel/kaggle_kakr_housing/data'\n",
    "print(os.listdir(\"../input\"))\n",
    "\n",
    "train = pd.read_csv('../aiffel/kaggle_kakr_housing/data/train.csv')\n",
    "test = pd.read_csv('../aiffel/kaggle_kakr_housing/data/test.csv')\n",
    "\n",
    "train_copy = train.copy()\n",
    "train_copy['data'] = 'train'\n",
    "\n",
    "# remove outlier\n",
    "train_copy = train_copy[~((train_copy['sqft_living'] > 12000) & (train_copy['price'] < 3000000))].reset_index(drop=True)\n",
    "    \n",
    "test_copy = test.copy()\n",
    "test_copy['data'] = 'test'\n",
    "test_copy['price'] = np.nan\n",
    "\n",
    "data = pd.concat([train_copy, test_copy], sort=False).reset_index(drop=True)\n",
    "data = data[train_copy.columns]\n",
    "data.head()\n"
   ]
  },
  {
   "cell_type": "code",
   "execution_count": null,
   "metadata": {},
   "outputs": [],
   "source": []
  }
 ],
 "metadata": {
  "language_info": {
   "name": "python"
  },
  "orig_nbformat": 4
 },
 "nbformat": 4,
 "nbformat_minor": 2
}
