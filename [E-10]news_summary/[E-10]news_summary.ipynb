{
 "cells": [
  {
   "cell_type": "markdown",
   "metadata": {},
   "source": [
    "# EXPLORATION 10.뉴스 요약봇 만들기"
   ]
  },
  {
   "cell_type": "markdown",
   "metadata": {},
   "source": [
    "## 1. 데이터 불러오기"
   ]
  },
  {
   "cell_type": "code",
   "execution_count": 45,
   "metadata": {},
   "outputs": [
    {
     "name": "stderr",
     "output_type": "stream",
     "text": [
      "[nltk_data] Downloading package stopwords to /aiffel/nltk_data...\n",
      "[nltk_data]   Package stopwords is already up-to-date!\n"
     ]
    }
   ],
   "source": [
    "import nltk\n",
    "nltk.download('stopwords')\n",
    "\n",
    "import numpy as np\n",
    "import pandas as pd\n",
    "import os\n",
    "import re\n",
    "import matplotlib.pyplot as plt\n",
    "from nltk.corpus import stopwords\n",
    "from bs4 import BeautifulSoup \n",
    "from tensorflow.keras.preprocessing.text import Tokenizer \n",
    "from tensorflow.keras.preprocessing.sequence import pad_sequences\n",
    "import urllib.request\n",
    "urllib.request.urlretrieve(\"https://raw.githubusercontent.com/sunnysai12345/News_Summary/master/news_summary_more.csv\", filename=\"news_summary_more.csv\")\n",
    "data = pd.read_csv('news_summary_more.csv', encoding='iso-8859-1')\n"
   ]
  },
  {
   "cell_type": "code",
   "execution_count": 46,
   "metadata": {},
   "outputs": [
    {
     "data": {
      "text/html": [
       "<div>\n",
       "<style scoped>\n",
       "    .dataframe tbody tr th:only-of-type {\n",
       "        vertical-align: middle;\n",
       "    }\n",
       "\n",
       "    .dataframe tbody tr th {\n",
       "        vertical-align: top;\n",
       "    }\n",
       "\n",
       "    .dataframe thead th {\n",
       "        text-align: right;\n",
       "    }\n",
       "</style>\n",
       "<table border=\"1\" class=\"dataframe\">\n",
       "  <thead>\n",
       "    <tr style=\"text-align: right;\">\n",
       "      <th></th>\n",
       "      <th>headlines</th>\n",
       "      <th>text</th>\n",
       "    </tr>\n",
       "  </thead>\n",
       "  <tbody>\n",
       "    <tr>\n",
       "      <th>88924</th>\n",
       "      <td>Pak set all fielders close to batsman for reco...</td>\n",
       "      <td>Pakistan captain Misbah-ul-Haq placed all fiel...</td>\n",
       "    </tr>\n",
       "    <tr>\n",
       "      <th>74162</th>\n",
       "      <td>Woman survives after being tossed in the air b...</td>\n",
       "      <td>A 30-year-old woman has survived an accident a...</td>\n",
       "    </tr>\n",
       "    <tr>\n",
       "      <th>42963</th>\n",
       "      <td>Climate change could create 14 crore migrants:...</td>\n",
       "      <td>More than 14 crore people across south Asia, s...</td>\n",
       "    </tr>\n",
       "    <tr>\n",
       "      <th>84503</th>\n",
       "      <td>Rambo remake director reveals why Hrithik didn...</td>\n",
       "      <td>Director Siddharth Anand has revealed that Hri...</td>\n",
       "    </tr>\n",
       "    <tr>\n",
       "      <th>34136</th>\n",
       "      <td>Cricket Aus trolled for sharing video of Sachi...</td>\n",
       "      <td>On the occasion of Sachin Tendulkar and Damien...</td>\n",
       "    </tr>\n",
       "    <tr>\n",
       "      <th>13656</th>\n",
       "      <td>Will work in balanced way to protect human rig...</td>\n",
       "      <td>After India was elected to UN Human Rights Cou...</td>\n",
       "    </tr>\n",
       "    <tr>\n",
       "      <th>31566</th>\n",
       "      <td>Heartbreaking that my sons don't play football...</td>\n",
       "      <td>Former England and Manchester United captain D...</td>\n",
       "    </tr>\n",
       "    <tr>\n",
       "      <th>7964</th>\n",
       "      <td>Indian maid jailed in Singapore for training 1...</td>\n",
       "      <td>A 33-year-old Indian woman working as a maid i...</td>\n",
       "    </tr>\n",
       "    <tr>\n",
       "      <th>29805</th>\n",
       "      <td>What all is Meghan Markle not allowed to do as...</td>\n",
       "      <td>After marrying UK's Prince Harry, former actre...</td>\n",
       "    </tr>\n",
       "    <tr>\n",
       "      <th>47712</th>\n",
       "      <td>Afridi reveals why he asked Indian fan to stra...</td>\n",
       "      <td>Shahid Afridi has revealed he asked an Indian ...</td>\n",
       "    </tr>\n",
       "  </tbody>\n",
       "</table>\n",
       "</div>"
      ],
      "text/plain": [
       "                                               headlines  \\\n",
       "88924  Pak set all fielders close to batsman for reco...   \n",
       "74162  Woman survives after being tossed in the air b...   \n",
       "42963  Climate change could create 14 crore migrants:...   \n",
       "84503  Rambo remake director reveals why Hrithik didn...   \n",
       "34136  Cricket Aus trolled for sharing video of Sachi...   \n",
       "13656  Will work in balanced way to protect human rig...   \n",
       "31566  Heartbreaking that my sons don't play football...   \n",
       "7964   Indian maid jailed in Singapore for training 1...   \n",
       "29805  What all is Meghan Markle not allowed to do as...   \n",
       "47712  Afridi reveals why he asked Indian fan to stra...   \n",
       "\n",
       "                                                    text  \n",
       "88924  Pakistan captain Misbah-ul-Haq placed all fiel...  \n",
       "74162  A 30-year-old woman has survived an accident a...  \n",
       "42963  More than 14 crore people across south Asia, s...  \n",
       "84503  Director Siddharth Anand has revealed that Hri...  \n",
       "34136  On the occasion of Sachin Tendulkar and Damien...  \n",
       "13656  After India was elected to UN Human Rights Cou...  \n",
       "31566  Former England and Manchester United captain D...  \n",
       "7964   A 33-year-old Indian woman working as a maid i...  \n",
       "29805  After marrying UK's Prince Harry, former actre...  \n",
       "47712  Shahid Afridi has revealed he asked an Indian ...  "
      ]
     },
     "execution_count": 46,
     "metadata": {},
     "output_type": "execute_result"
    }
   ],
   "source": [
    "data.sample(10)"
   ]
  },
  {
   "cell_type": "code",
   "execution_count": 47,
   "metadata": {},
   "outputs": [
    {
     "name": "stdout",
     "output_type": "stream",
     "text": [
      "98401\n",
      "98360\n",
      "98280\n"
     ]
    }
   ],
   "source": [
    "print(len(data)) # 전체 데이터 갯수\n",
    "print(data['text'].nunique()) # text 컬럼 중복 제거 수\n",
    "print(data['headlines'].nunique()) # headlines 컬럼 중복 제거 수\n",
    "data.drop_duplicates(subset = ['headlines'],inplace=True) # 중복 샘플 제거\n",
    "data.drop_duplicates(subset = ['text'],inplace=True) # 중복 샘플 제거"
   ]
  },
  {
   "cell_type": "code",
   "execution_count": 48,
   "metadata": {},
   "outputs": [
    {
     "name": "stdout",
     "output_type": "stream",
     "text": [
      "98262\n",
      "headlines    0\n",
      "text         0\n",
      "dtype: int64\n"
     ]
    }
   ],
   "source": [
    "print(len(data))\n",
    "print(data.isnull().sum()) # Null 값 없음"
   ]
  },
  {
   "cell_type": "markdown",
   "metadata": {},
   "source": [
    "## 2. 텍스트 정규화와 불용어 제거"
   ]
  },
  {
   "cell_type": "code",
   "execution_count": 49,
   "metadata": {},
   "outputs": [
    {
     "name": "stdout",
     "output_type": "stream",
     "text": [
      "정규화 사전의 수: 120\n",
      "불용어 개수 : 179\n"
     ]
    }
   ],
   "source": [
    "contractions = {\"ain't\": \"is not\", \"aren't\": \"are not\",\"can't\": \"cannot\", \"'cause\": \"because\", \"could've\": \"could have\", \"couldn't\": \"could not\",\n",
    "                           \"didn't\": \"did not\",  \"doesn't\": \"does not\", \"don't\": \"do not\", \"hadn't\": \"had not\", \"hasn't\": \"has not\", \"haven't\": \"have not\",\n",
    "                           \"he'd\": \"he would\",\"he'll\": \"he will\", \"he's\": \"he is\", \"how'd\": \"how did\", \"how'd'y\": \"how do you\", \"how'll\": \"how will\", \"how's\": \"how is\",\n",
    "                           \"I'd\": \"I would\", \"I'd've\": \"I would have\", \"I'll\": \"I will\", \"I'll've\": \"I will have\",\"I'm\": \"I am\", \"I've\": \"I have\", \"i'd\": \"i would\",\n",
    "                           \"i'd've\": \"i would have\", \"i'll\": \"i will\",  \"i'll've\": \"i will have\",\"i'm\": \"i am\", \"i've\": \"i have\", \"isn't\": \"is not\", \"it'd\": \"it would\",\n",
    "                           \"it'd've\": \"it would have\", \"it'll\": \"it will\", \"it'll've\": \"it will have\",\"it's\": \"it is\", \"let's\": \"let us\", \"ma'am\": \"madam\",\n",
    "                           \"mayn't\": \"may not\", \"might've\": \"might have\",\"mightn't\": \"might not\",\"mightn't've\": \"might not have\", \"must've\": \"must have\",\n",
    "                           \"mustn't\": \"must not\", \"mustn't've\": \"must not have\", \"needn't\": \"need not\", \"needn't've\": \"need not have\",\"o'clock\": \"of the clock\",\n",
    "                           \"oughtn't\": \"ought not\", \"oughtn't've\": \"ought not have\", \"shan't\": \"shall not\", \"sha'n't\": \"shall not\", \"shan't've\": \"shall not have\",\n",
    "                           \"she'd\": \"she would\", \"she'd've\": \"she would have\", \"she'll\": \"she will\", \"she'll've\": \"she will have\", \"she's\": \"she is\",\n",
    "                           \"should've\": \"should have\", \"shouldn't\": \"should not\", \"shouldn't've\": \"should not have\", \"so've\": \"so have\",\"so's\": \"so as\",\n",
    "                           \"this's\": \"this is\",\"that'd\": \"that would\", \"that'd've\": \"that would have\", \"that's\": \"that is\", \"there'd\": \"there would\",\n",
    "                           \"there'd've\": \"there would have\", \"there's\": \"there is\", \"here's\": \"here is\",\"they'd\": \"they would\", \"they'd've\": \"they would have\",\n",
    "                           \"they'll\": \"they will\", \"they'll've\": \"they will have\", \"they're\": \"they are\", \"they've\": \"they have\", \"to've\": \"to have\",\n",
    "                           \"wasn't\": \"was not\", \"we'd\": \"we would\", \"we'd've\": \"we would have\", \"we'll\": \"we will\", \"we'll've\": \"we will have\", \"we're\": \"we are\",\n",
    "                           \"we've\": \"we have\", \"weren't\": \"were not\", \"what'll\": \"what will\", \"what'll've\": \"what will have\", \"what're\": \"what are\",\n",
    "                           \"what's\": \"what is\", \"what've\": \"what have\", \"when's\": \"when is\", \"when've\": \"when have\", \"where'd\": \"where did\", \"where's\": \"where is\",\n",
    "                           \"where've\": \"where have\", \"who'll\": \"who will\", \"who'll've\": \"who will have\", \"who's\": \"who is\", \"who've\": \"who have\",\n",
    "                           \"why's\": \"why is\", \"why've\": \"why have\", \"will've\": \"will have\", \"won't\": \"will not\", \"won't've\": \"will not have\",\n",
    "                           \"would've\": \"would have\", \"wouldn't\": \"would not\", \"wouldn't've\": \"would not have\", \"y'all\": \"you all\",\n",
    "                           \"y'all'd\": \"you all would\",\"y'all'd've\": \"you all would have\",\"y'all're\": \"you all are\",\"y'all've\": \"you all have\",\n",
    "                           \"you'd\": \"you would\", \"you'd've\": \"you would have\", \"you'll\": \"you will\", \"you'll've\": \"you will have\",\n",
    "                           \"you're\": \"you are\", \"you've\": \"you have\"}\n",
    "\n",
    "print(f\"정규화 사전의 수: {len(contractions)}\")\n",
    "print('불용어 개수 :',len(stopwords.words('english')))"
   ]
  },
  {
   "cell_type": "markdown",
   "metadata": {},
   "source": [
    "## 3. 데이터 전처리"
   ]
  },
  {
   "cell_type": "code",
   "execution_count": 50,
   "metadata": {},
   "outputs": [],
   "source": [
    "# 데이터 전처리 함수\n",
    "def preprocess_sentence(sentence, remove_stopwords=True):\n",
    "    sentence = sentence.lower() # 텍스트 소문자화\n",
    "    sentence = BeautifulSoup(sentence, \"lxml\").text # <br />, <a href = ...> 등의 html 태그 제거\n",
    "    sentence = re.sub(r'\\([^)]*\\)', '', sentence) # 괄호로 닫힌 문자열 (...) 제거 Ex) my husband (and myself!) for => my husband for\n",
    "    sentence = re.sub('\"','', sentence) # 쌍따옴표 \" 제거\n",
    "    sentence = ' '.join([contractions[t] if t in contractions else t for t in sentence.split(\" \")]) # 약어 정규화\n",
    "    sentence = re.sub(r\"'s\\b\",\"\", sentence) # 소유격 제거. Ex) roland's -> roland\n",
    "    sentence = re.sub(\"[^a-zA-Z]\", \" \", sentence) # 영어 외 문자(숫자, 특수문자 등) 공백으로 변환\n",
    "    sentence = re.sub('[m]{2,}', 'mm', sentence) # m이 3개 이상이면 2개로 변경. Ex) ummmmmmm yeah -> umm yeah\n",
    "    \n",
    "    # 불용어 제거 (Text)\n",
    "    if remove_stopwords:\n",
    "        tokens = ' '.join(word for word in sentence.split() if not word in stopwords.words('english') if len(word) > 1)\n",
    "    # 불용어 미제거 (Summary)\n",
    "    else:\n",
    "        tokens = ' '.join(word for word in sentence.split() if len(word) > 1)\n",
    "    return tokens"
   ]
  },
  {
   "cell_type": "markdown",
   "metadata": {},
   "source": [
    "## 3-1 멀티프로세싱으로 데이터 전처리"
   ]
  },
  {
   "cell_type": "code",
   "execution_count": 51,
   "metadata": {},
   "outputs": [
    {
     "name": "stdout",
     "output_type": "stream",
     "text": [
      "585.5785958766937  seconds\n",
      "['saurav kant alumnus upgrad iiit pg program machine learning artificial intelligence sr systems engineer infosys almost years work experience program upgrad degree career support helped transition data scientist tech mahindra salary hike upgrad online power learning powered lakh careers'\n",
      " 'kunal shah credit card bill payment platform cred gave users chance win free food swiggy one year pranav kaushik delhi techie bagged reward spending cred coins users get one cred coin per rupee bill paid used avail rewards brands like ixigo bookmyshow ubereats cult fit'\n",
      " 'new zealand defeated india wickets fourth odi hamilton thursday win first match five match odi series india lost international match rohit sharma captaincy consecutive victories dating back march match witnessed india getting seventh lowest total odi cricket history'\n",
      " ...\n",
      " 'according reports new version science fiction film matrix development michael jordan reportedly play lead role film screenwriter zak penn talks write script film reports added actor keanu reeves starred original film followed two sequels'\n",
      " 'new music video shows rapper snoop dogg aiming toy gun clown character parodying us president donald trump video also shows tv airing news conference headline ronald klump wants deport doggs airing live clown house video remixed version song lavender'\n",
      " 'madhesi morcha alliance seven political parties withdrawn support pm pushpa kamal dahal led nepal government failed meet seven day ultimatum fulfil demands including endorsement revised constitution amendment bill morcha seats parliament despite withdrawal support immediate threat government']\n",
      "18.08935809135437  seconds\n",
      "['upgrad learner switches to career in ml al with salary hike'\n",
      " 'delhi techie wins free food from swiggy for one year on cred'\n",
      " 'new zealand end rohit sharma led india match winning streak' ...\n",
      " 'the matrix film to get reboot reports'\n",
      " 'snoop dogg aims gun at clown dressed as trump in new video'\n",
      " 'madhesi morcha withdraws support to nepalese government']\n"
     ]
    }
   ],
   "source": [
    "import multiprocessing as mp   # 멀티 프로세싱으로 전처리 속도를 획기적으로 줄여봅시다\n",
    "from multiprocessing import Pool\n",
    "import numpy as np\n",
    "import time\n",
    "from functools import partial  # map을 할 때 함수에 여러 인자를 넣어줄 수 있도록 합니다\n",
    "\n",
    "start = time.time()\n",
    "\n",
    "# num_cores 만큼 쪼개진 데이터를 전처리하여 반환합니다\n",
    "def appendTexts(sentences, remove_stopwords):\n",
    "  texts = []\n",
    "  for s in sentences:\n",
    "    texts += preprocess_sentence(s, remove_stopwords),\n",
    "  return texts\n",
    "\n",
    "def preprocess_data(data, remove_stopwords=True):\n",
    "  start_time = time.time()\n",
    "  num_cores = mp.cpu_count()  # 컴퓨터의 코어 수를 구합니다\n",
    "\n",
    "  text_data_split = np.array_split(data, num_cores)  # 코어 수만큼 데이터를 배분하여 병렬적으로 처리할 수 있게 합니다\n",
    "  pool = Pool(num_cores)\n",
    "\n",
    "  processed_data = np.concatenate(pool.map(partial(appendTexts, remove_stopwords=remove_stopwords), text_data_split))  # 각자 작업한 데이터를 하나로 합쳐줍니다\n",
    "  pool.close()\n",
    "  pool.join()\n",
    "  print(time.time() - start_time, \" seconds\")\n",
    "  return processed_data\n",
    "\n",
    "clean_text = preprocess_data(data['text'])  # 클라우드 기준으로 3~4분 정도 소요 됩니다\n",
    "print(clean_text)\n",
    "\n",
    "clean_summary = preprocess_data(data['headlines'], remove_stopwords=False) # 클라우드 기준 1분정도 소요됩니다.\n",
    "print(clean_summary)"
   ]
  },
  {
   "cell_type": "markdown",
   "metadata": {},
   "source": [
    "## 3-2 훈련데이터 및 테스트데이터 나누기"
   ]
  },
  {
   "cell_type": "code",
   "execution_count": 52,
   "metadata": {},
   "outputs": [],
   "source": [
    "data['text'] = clean_text\n",
    "data['headlines'] = clean_summary\n",
    "\n",
    "# 빈 값을 Null 값으로 변환\n",
    "data.replace('', np.nan, inplace=True)"
   ]
  },
  {
   "cell_type": "code",
   "execution_count": 53,
   "metadata": {},
   "outputs": [
    {
     "data": {
      "text/plain": [
       "headlines    0\n",
       "text         0\n",
       "dtype: int64"
      ]
     },
     "execution_count": 53,
     "metadata": {},
     "output_type": "execute_result"
    }
   ],
   "source": [
    "data.isnull().sum()"
   ]
  },
  {
   "cell_type": "code",
   "execution_count": 54,
   "metadata": {},
   "outputs": [
    {
     "name": "stdout",
     "output_type": "stream",
     "text": [
      "텍스트의 최소 길이 : 1\n",
      "텍스트의 최대 길이 : 60\n",
      "텍스트의 평균 길이 : 35.10029309397326\n",
      "요약의 최소 길이 : 1\n",
      "요약의 최대 길이 : 16\n",
      "요약의 평균 길이 : 9.299444342675704\n"
     ]
    },
    {
     "data": {
      "image/png": "[encoded data removed]",
      "text/plain": [
       "<Figure size 432x288 with 2 Axes>"
      ]
     },
     "metadata": {
      "needs_background": "light"
     },
     "output_type": "display_data"
    },
    {
     "data": {
      "image/png": "[encoded data removed]",
      "text/plain": [
       "<Figure size 432x288 with 1 Axes>"
      ]
     },
     "metadata": {
      "needs_background": "light"
     },
     "output_type": "display_data"
    },
    {
     "data": {
      "image/png": "[encoded data removed]",
      "text/plain": [
       "<Figure size 432x288 with 1 Axes>"
      ]
     },
     "metadata": {
      "needs_background": "light"
     },
     "output_type": "display_data"
    }
   ],
   "source": [
    "# 길이 분포 출력\n",
    "import matplotlib.pyplot as plt\n",
    "\n",
    "text_len = [len(s.split()) for s in data['text']]\n",
    "summary_len = [len(s.split()) for s in data['headlines']]\n",
    "\n",
    "print('텍스트의 최소 길이 : {}'.format(np.min(text_len)))\n",
    "print('텍스트의 최대 길이 : {}'.format(np.max(text_len)))\n",
    "print('텍스트의 평균 길이 : {}'.format(np.mean(text_len)))\n",
    "print('요약의 최소 길이 : {}'.format(np.min(summary_len)))\n",
    "print('요약의 최대 길이 : {}'.format(np.max(summary_len)))\n",
    "print('요약의 평균 길이 : {}'.format(np.mean(summary_len)))\n",
    "\n",
    "plt.subplot(1,2,1)\n",
    "plt.boxplot(summary_len)\n",
    "plt.title('Summary')\n",
    "plt.subplot(1,2,2)\n",
    "plt.boxplot(text_len)\n",
    "plt.title('Text')\n",
    "plt.tight_layout()\n",
    "plt.show()\n",
    "\n",
    "plt.title('Summary')\n",
    "plt.hist(summary_len, bins = 40)\n",
    "plt.xlabel('length of samples')\n",
    "plt.ylabel('number of samples')\n",
    "plt.show()\n",
    "\n",
    "plt.title('Text')\n",
    "plt.hist(text_len, bins = 40)\n",
    "plt.xlabel('length of samples')\n",
    "plt.ylabel('number of samples')\n",
    "plt.show()"
   ]
  },
  {
   "cell_type": "code",
   "execution_count": 55,
   "metadata": {},
   "outputs": [],
   "source": [
    "text_max_len = 37\n",
    "headlines_max_len = 10"
   ]
  },
  {
   "cell_type": "code",
   "execution_count": 56,
   "metadata": {},
   "outputs": [],
   "source": [
    "def below_threshold_len(max_len, nested_list):\n",
    "  cnt = 0\n",
    "  for s in nested_list:\n",
    "    if(len(s.split()) <= max_len):\n",
    "        cnt = cnt + 1\n",
    "  print('전체 샘플 중 길이가 %s 이하인 샘플의 비율: %s'%(max_len, (cnt / len(nested_list))))"
   ]
  },
  {
   "cell_type": "code",
   "execution_count": 57,
   "metadata": {},
   "outputs": [
    {
     "name": "stdout",
     "output_type": "stream",
     "text": [
      "전체 샘플 중 길이가 37 이하인 샘플의 비율: 0.7377419551810466\n",
      "전체 샘플 중 길이가 10 이하인 샘플의 비율: 0.816317599886019\n"
     ]
    }
   ],
   "source": [
    "below_threshold_len(text_max_len, data['text'])\n",
    "below_threshold_len(headlines_max_len, data['headlines'])"
   ]
  },
  {
   "cell_type": "code",
   "execution_count": 58,
   "metadata": {},
   "outputs": [
    {
     "name": "stdout",
     "output_type": "stream",
     "text": [
      "전체 샘플수 : 58848\n"
     ]
    }
   ],
   "source": [
    "data = data[data['text'].apply(lambda x: len(x.split()) <= text_max_len)]\n",
    "data = data[data['headlines'].apply(lambda x: len(x.split()) <= headlines_max_len)]\n",
    "print('전체 샘플수 :', (len(data)))"
   ]
  },
  {
   "cell_type": "markdown",
   "metadata": {},
   "source": [
    "## 3-3 시작 토큰과 종료 토큰 추가하기"
   ]
  },
  {
   "cell_type": "code",
   "execution_count": 59,
   "metadata": {},
   "outputs": [],
   "source": [
    "data['decoder_input'] = data['headlines'].apply(lambda x : 'sostoken '+ x)\n",
    "data['decoder_target'] = data['headlines'].apply(lambda x : x + ' eostoken')"
   ]
  },
  {
   "cell_type": "code",
   "execution_count": 60,
   "metadata": {},
   "outputs": [
    {
     "data": {
      "text/html": [
       "<div>\n",
       "<style scoped>\n",
       "    .dataframe tbody tr th:only-of-type {\n",
       "        vertical-align: middle;\n",
       "    }\n",
       "\n",
       "    .dataframe tbody tr th {\n",
       "        vertical-align: top;\n",
       "    }\n",
       "\n",
       "    .dataframe thead th {\n",
       "        text-align: right;\n",
       "    }\n",
       "</style>\n",
       "<table border=\"1\" class=\"dataframe\">\n",
       "  <thead>\n",
       "    <tr style=\"text-align: right;\">\n",
       "      <th></th>\n",
       "      <th>headlines</th>\n",
       "      <th>text</th>\n",
       "      <th>decoder_input</th>\n",
       "      <th>decoder_target</th>\n",
       "    </tr>\n",
       "  </thead>\n",
       "  <tbody>\n",
       "    <tr>\n",
       "      <th>3</th>\n",
       "      <td>aegon life iterm insurance plan helps customer...</td>\n",
       "      <td>aegon life iterm insurance plan customers enjo...</td>\n",
       "      <td>sostoken aegon life iterm insurance plan helps...</td>\n",
       "      <td>aegon life iterm insurance plan helps customer...</td>\n",
       "    </tr>\n",
       "    <tr>\n",
       "      <th>5</th>\n",
       "      <td>rahat fateh ali khan denies getting notice for...</td>\n",
       "      <td>pakistani singer rahat fateh ali khan denied r...</td>\n",
       "      <td>sostoken rahat fateh ali khan denies getting n...</td>\n",
       "      <td>rahat fateh ali khan denies getting notice for...</td>\n",
       "    </tr>\n",
       "    <tr>\n",
       "      <th>9</th>\n",
       "      <td>cong wins ramgarh bypoll in rajasthan takes to...</td>\n",
       "      <td>congress candidate shafia zubair ramgarh assem...</td>\n",
       "      <td>sostoken cong wins ramgarh bypoll in rajasthan...</td>\n",
       "      <td>cong wins ramgarh bypoll in rajasthan takes to...</td>\n",
       "    </tr>\n",
       "    <tr>\n",
       "      <th>10</th>\n",
       "      <td>up cousins fed human excreta for friendship wi...</td>\n",
       "      <td>two minor cousins uttar pradesh gorakhpur alle...</td>\n",
       "      <td>sostoken up cousins fed human excreta for frie...</td>\n",
       "      <td>up cousins fed human excreta for friendship wi...</td>\n",
       "    </tr>\n",
       "    <tr>\n",
       "      <th>16</th>\n",
       "      <td>karan johar tabu turn showstoppers on opening ...</td>\n",
       "      <td>filmmaker karan johar actress tabu turned show...</td>\n",
       "      <td>sostoken karan johar tabu turn showstoppers on...</td>\n",
       "      <td>karan johar tabu turn showstoppers on opening ...</td>\n",
       "    </tr>\n",
       "  </tbody>\n",
       "</table>\n",
       "</div>"
      ],
      "text/plain": [
       "                                            headlines  \\\n",
       "3   aegon life iterm insurance plan helps customer...   \n",
       "5   rahat fateh ali khan denies getting notice for...   \n",
       "9   cong wins ramgarh bypoll in rajasthan takes to...   \n",
       "10  up cousins fed human excreta for friendship wi...   \n",
       "16  karan johar tabu turn showstoppers on opening ...   \n",
       "\n",
       "                                                 text  \\\n",
       "3   aegon life iterm insurance plan customers enjo...   \n",
       "5   pakistani singer rahat fateh ali khan denied r...   \n",
       "9   congress candidate shafia zubair ramgarh assem...   \n",
       "10  two minor cousins uttar pradesh gorakhpur alle...   \n",
       "16  filmmaker karan johar actress tabu turned show...   \n",
       "\n",
       "                                        decoder_input  \\\n",
       "3   sostoken aegon life iterm insurance plan helps...   \n",
       "5   sostoken rahat fateh ali khan denies getting n...   \n",
       "9   sostoken cong wins ramgarh bypoll in rajasthan...   \n",
       "10  sostoken up cousins fed human excreta for frie...   \n",
       "16  sostoken karan johar tabu turn showstoppers on...   \n",
       "\n",
       "                                       decoder_target  \n",
       "3   aegon life iterm insurance plan helps customer...  \n",
       "5   rahat fateh ali khan denies getting notice for...  \n",
       "9   cong wins ramgarh bypoll in rajasthan takes to...  \n",
       "10  up cousins fed human excreta for friendship wi...  \n",
       "16  karan johar tabu turn showstoppers on opening ...  "
      ]
     },
     "execution_count": 60,
     "metadata": {},
     "output_type": "execute_result"
    }
   ],
   "source": [
    "data.head()"
   ]
  },
  {
   "cell_type": "code",
   "execution_count": 61,
   "metadata": {},
   "outputs": [],
   "source": [
    "encoder_input = np.array(data['text']) # 인코더의 입력\n",
    "decoder_input = np.array(data['decoder_input']) # 디코더의 입력\n",
    "decoder_target = np.array(data['decoder_target']) # 디코더의 레이블"
   ]
  },
  {
   "cell_type": "code",
   "execution_count": 62,
   "metadata": {},
   "outputs": [
    {
     "name": "stdout",
     "output_type": "stream",
     "text": [
      "[48742 14494 48929 ... 11841 57824 24563]\n"
     ]
    }
   ],
   "source": [
    "indices = np.arange(encoder_input.shape[0])\n",
    "np.random.shuffle(indices)\n",
    "print(indices)"
   ]
  },
  {
   "cell_type": "code",
   "execution_count": 63,
   "metadata": {},
   "outputs": [],
   "source": [
    "encoder_input = encoder_input[indices]\n",
    "decoder_input = decoder_input[indices]\n",
    "decoder_target = decoder_target[indices]"
   ]
  },
  {
   "cell_type": "code",
   "execution_count": 64,
   "metadata": {},
   "outputs": [
    {
     "name": "stdout",
     "output_type": "stream",
     "text": [
      "테스트 데이터의 수 : 11769\n"
     ]
    }
   ],
   "source": [
    "n_of_val = int(len(encoder_input)*0.2)\n",
    "print('테스트 데이터의 수 :', n_of_val)"
   ]
  },
  {
   "cell_type": "code",
   "execution_count": 65,
   "metadata": {},
   "outputs": [
    {
     "name": "stdout",
     "output_type": "stream",
     "text": [
      "훈련 데이터의 개수 : 47079\n",
      "훈련 레이블의 개수 : 47079\n",
      "테스트 데이터의 개수 : 11769\n",
      "테스트 레이블의 개수 : 11769\n"
     ]
    }
   ],
   "source": [
    "encoder_input_train = encoder_input[:-n_of_val]\n",
    "decoder_input_train = decoder_input[:-n_of_val]\n",
    "decoder_target_train = decoder_target[:-n_of_val]\n",
    "\n",
    "encoder_input_test = encoder_input[-n_of_val:]\n",
    "decoder_input_test = decoder_input[-n_of_val:]\n",
    "decoder_target_test = decoder_target[-n_of_val:]\n",
    "\n",
    "print('훈련 데이터의 개수 :', len(encoder_input_train))\n",
    "print('훈련 레이블의 개수 :', len(decoder_input_train))\n",
    "print('테스트 데이터의 개수 :', len(encoder_input_test))\n",
    "print('테스트 레이블의 개수 :', len(decoder_input_test))"
   ]
  },
  {
   "cell_type": "markdown",
   "metadata": {},
   "source": [
    "## 3-4 단어 집합(vocabulary) 만들기 및 정수 인코딩"
   ]
  },
  {
   "cell_type": "code",
   "execution_count": 66,
   "metadata": {},
   "outputs": [],
   "source": [
    "src_tokenizer = Tokenizer()\n",
    "src_tokenizer.fit_on_texts(encoder_input_train)"
   ]
  },
  {
   "cell_type": "code",
   "execution_count": 67,
   "metadata": {},
   "outputs": [
    {
     "name": "stdout",
     "output_type": "stream",
     "text": [
      "단어 집합(vocabulary)의 크기 : 54247\n",
      "등장 빈도가 3번 이하인 희귀 단어의 수: 31398\n",
      "단어 집합에서 희귀 단어를 제외시킬 경우의 단어 집합의 크기 22849\n",
      "단어 집합에서 희귀 단어의 비율: 57.87969841650229\n",
      "전체 등장 빈도에서 희귀 단어 등장 빈도 비율: 3.0061737323294992\n"
     ]
    }
   ],
   "source": [
    "def frequency(tokens):\n",
    "    threshold=4\n",
    "    total_cnt = len(tokens.word_index) # 단어의 수\n",
    "    rare_cnt = 0 # 등장 빈도수가 threshold보다 작은 단어의 개수를 카운트\n",
    "    total_freq = 0 # 훈련 데이터의 전체 단어 빈도수 총 합\n",
    "    rare_freq = 0 # 등장 빈도수가 threshold보다 작은 단어의 등장 빈도수의 총 합\n",
    "\n",
    "    # 단어와 빈도수의 쌍(pair)을 key와 value로 받는다.\n",
    "    for key, value in tokens.word_counts.items():\n",
    "        total_freq = total_freq + value\n",
    "\n",
    "        # 단어의 등장 빈도수가 threshold보다 작으면\n",
    "        if(value < threshold):\n",
    "            rare_cnt = rare_cnt + 1\n",
    "            rare_freq = rare_freq + value\n",
    "\n",
    "    print('단어 집합(vocabulary)의 크기 :', total_cnt)\n",
    "    print('등장 빈도가 %s번 이하인 희귀 단어의 수: %s'%(threshold - 1, rare_cnt))\n",
    "    print('단어 집합에서 희귀 단어를 제외시킬 경우의 단어 집합의 크기 %s'%(total_cnt - rare_cnt))\n",
    "    print(\"단어 집합에서 희귀 단어의 비율:\", (rare_cnt / total_cnt)*100)\n",
    "    print(\"전체 등장 빈도에서 희귀 단어 등장 빈도 비율:\", (rare_freq / total_freq)*100)\n",
    "\n",
    "frequency(src_tokenizer)"
   ]
  },
  {
   "cell_type": "code",
   "execution_count": 68,
   "metadata": {},
   "outputs": [],
   "source": [
    "src_vocab = 8000\n",
    "src_tokenizer = Tokenizer(num_words=src_vocab) # 단어 집합의 크기를 8,000으로 제한\n",
    "src_tokenizer.fit_on_texts(encoder_input_train) # 단어 집합 재생성."
   ]
  },
  {
   "cell_type": "code",
   "execution_count": 69,
   "metadata": {},
   "outputs": [],
   "source": [
    "encoder_input_train = src_tokenizer.texts_to_sequences(encoder_input_train)\n",
    "encoder_input_test = src_tokenizer.texts_to_sequences(encoder_input_test)"
   ]
  },
  {
   "cell_type": "code",
   "execution_count": 70,
   "metadata": {},
   "outputs": [
    {
     "name": "stdout",
     "output_type": "stream",
     "text": [
      "[[5540, 144, 3187, 4070, 5282, 5859, 2, 14, 1215, 1627, 2539, 1926, 4602, 5847, 6629, 550, 52, 4070, 1405, 160, 2539, 7526, 2223, 542, 544, 476, 6024, 283, 522, 144, 3069], [4636, 1544, 132, 56, 3797, 44, 1108, 1177, 915, 1444, 1418, 637, 50, 632, 2368, 2335, 3831, 108, 1306, 429, 203, 7223, 1016, 1418, 384], [655, 208, 431, 1192, 450, 66, 1612, 1210, 75, 410, 698, 6710, 91, 1975, 1190, 1621, 3604, 125, 289, 8, 392, 5, 249, 6367, 263]]\n"
     ]
    }
   ],
   "source": [
    "print(encoder_input_test[:3])"
   ]
  },
  {
   "cell_type": "code",
   "execution_count": 71,
   "metadata": {},
   "outputs": [],
   "source": [
    "tar_tokenizer = Tokenizer()\n",
    "tar_tokenizer.fit_on_texts(decoder_input_train)"
   ]
  },
  {
   "cell_type": "code",
   "execution_count": 72,
   "metadata": {},
   "outputs": [
    {
     "name": "stdout",
     "output_type": "stream",
     "text": [
      "단어 집합(vocabulary)의 크기 : 24750\n",
      "등장 빈도가 3번 이하인 희귀 단어의 수: 14591\n",
      "단어 집합에서 희귀 단어를 제외시킬 경우의 단어 집합의 크기 10159\n",
      "단어 집합에서 희귀 단어의 비율: 58.95353535353536\n",
      "전체 등장 빈도에서 희귀 단어 등장 빈도 비율: 4.771385952396394\n"
     ]
    }
   ],
   "source": [
    "frequency(tar_tokenizer)"
   ]
  },
  {
   "cell_type": "code",
   "execution_count": 73,
   "metadata": {},
   "outputs": [
    {
     "name": "stdout",
     "output_type": "stream",
     "text": [
      "input\n",
      "input  [[1, 528, 942, 388, 474, 5, 3, 209, 32, 210], [1, 1642, 1485, 13, 85, 5, 696], [1, 125, 911, 1051, 1643, 389, 113, 173], [1, 1644, 127, 9, 571, 282], [1, 30, 67, 769, 3, 58, 536, 427, 36, 532]]\n",
      "target\n",
      "decoder  [[528, 942, 388, 474, 5, 3, 209, 32, 210, 2], [1642, 1485, 13, 85, 5, 696, 2], [125, 911, 1051, 1643, 389, 113, 173, 2], [1644, 127, 9, 571, 282, 2], [30, 67, 769, 3, 58, 536, 427, 36, 532, 2]]\n"
     ]
    }
   ],
   "source": [
    "tar_tokenizer = Tokenizer(num_words=2000)\n",
    "tar_tokenizer.fit_on_texts(decoder_input_train)\n",
    "tar_tokenizer.fit_on_texts(decoder_target_train)\n",
    "\n",
    "decoder_input_train = tar_tokenizer.texts_to_sequences(decoder_input_train) \n",
    "decoder_target_train = tar_tokenizer.texts_to_sequences(decoder_target_train)\n",
    "decoder_input_test = tar_tokenizer.texts_to_sequences(decoder_input_test)\n",
    "decoder_target_test = tar_tokenizer.texts_to_sequences(decoder_target_test)\n",
    "\n",
    "# 잘 변환되었는지 확인\n",
    "print('input')\n",
    "print('input ',decoder_input_train[:5])\n",
    "print('target')\n",
    "print('decoder ',decoder_target_train[:5])"
   ]
  },
  {
   "cell_type": "code",
   "execution_count": 74,
   "metadata": {},
   "outputs": [
    {
     "name": "stdout",
     "output_type": "stream",
     "text": [
      "삭제할 훈련 데이터의 개수 : 8\n",
      "삭제할 테스트 데이터의 개수 : 2\n",
      "훈련 데이터의 개수 : 47071\n",
      "훈련 레이블의 개수 : 47071\n",
      "테스트 데이터의 개수 : 11767\n",
      "테스트 레이블의 개수 : 11767\n"
     ]
    },
    {
     "name": "stderr",
     "output_type": "stream",
     "text": [
      "/opt/conda/lib/python3.7/site-packages/numpy/core/_asarray.py:83: VisibleDeprecationWarning: Creating an ndarray from ragged nested sequences (which is a list-or-tuple of lists-or-tuples-or ndarrays with different lengths or shapes) is deprecated. If you meant to do this, you must specify 'dtype=object' when creating the ndarray\n",
      "  return array(a, dtype, copy=False, order=order)\n"
     ]
    }
   ],
   "source": [
    "drop_train = [index for index, sentence in enumerate(decoder_input_train) if len(sentence) == 1]\n",
    "drop_test = [index for index, sentence in enumerate(decoder_input_test) if len(sentence) == 1]\n",
    "\n",
    "print('삭제할 훈련 데이터의 개수 :', len(drop_train))\n",
    "print('삭제할 테스트 데이터의 개수 :', len(drop_test))\n",
    "\n",
    "encoder_input_train = np.delete(encoder_input_train, drop_train, axis=0)\n",
    "decoder_input_train = np.delete(decoder_input_train, drop_train, axis=0)\n",
    "decoder_target_train = np.delete(decoder_target_train, drop_train, axis=0)\n",
    "\n",
    "encoder_input_test = np.delete(encoder_input_test, drop_test, axis=0)\n",
    "decoder_input_test = np.delete(decoder_input_test, drop_test, axis=0)\n",
    "decoder_target_test = np.delete(decoder_target_test, drop_test, axis=0)\n",
    "\n",
    "print('훈련 데이터의 개수 :', len(encoder_input_train))\n",
    "print('훈련 레이블의 개수 :', len(decoder_input_train))\n",
    "print('테스트 데이터의 개수 :', len(encoder_input_test))\n",
    "print('테스트 레이블의 개수 :', len(decoder_input_test))"
   ]
  },
  {
   "cell_type": "code",
   "execution_count": 75,
   "metadata": {},
   "outputs": [],
   "source": [
    "encoder_input_train = pad_sequences(encoder_input_train, maxlen=text_max_len, padding='post')\n",
    "encoder_input_test = pad_sequences(encoder_input_test, maxlen=text_max_len, padding='post')\n",
    "decoder_input_train = pad_sequences(decoder_input_train, maxlen=headlines_max_len, padding='post')\n",
    "decoder_target_train = pad_sequences(decoder_target_train, maxlen=headlines_max_len, padding='post')\n",
    "decoder_input_test = pad_sequences(decoder_input_test, maxlen=headlines_max_len, padding='post')\n",
    "decoder_target_test = pad_sequences(decoder_target_test, maxlen=headlines_max_len, padding='post')"
   ]
  },
  {
   "cell_type": "markdown",
   "metadata": {},
   "source": [
    "## 3-5. 어텐션 메커니즘 사용하기 (추상적 요약)"
   ]
  },
  {
   "cell_type": "code",
   "execution_count": 76,
   "metadata": {},
   "outputs": [
    {
     "name": "stdout",
     "output_type": "stream",
     "text": [
      "WARNING:tensorflow:Layer lstm_4 will not use cuDNN kernel since it doesn't meet the cuDNN kernel criteria. It will use generic GPU kernel as fallback when running on GPU\n",
      "WARNING:tensorflow:Layer lstm_5 will not use cuDNN kernel since it doesn't meet the cuDNN kernel criteria. It will use generic GPU kernel as fallback when running on GPU\n",
      "WARNING:tensorflow:Layer lstm_6 will not use cuDNN kernel since it doesn't meet the cuDNN kernel criteria. It will use generic GPU kernel as fallback when running on GPU\n"
     ]
    }
   ],
   "source": [
    "from tensorflow.keras.layers import Input, LSTM, Embedding, Dense, Concatenate\n",
    "from tensorflow.keras.models import Model\n",
    "from tensorflow.keras.callbacks import EarlyStopping, ModelCheckpoint\n",
    "\n",
    "\n",
    "# 인코더 설계 시작\n",
    "embedding_dim = 128\n",
    "hidden_size = 256\n",
    "\n",
    "# 인코더\n",
    "encoder_inputs = Input(shape=(text_max_len,))\n",
    "\n",
    "# 인코더의 임베딩 층\n",
    "enc_emb = Embedding(8000, embedding_dim)(encoder_inputs)\n",
    "\n",
    "# 인코더의 LSTM 1\n",
    "encoder_lstm1 = LSTM(hidden_size, return_sequences=True, return_state=True ,dropout = 0.4, recurrent_dropout = 0.4)\n",
    "encoder_output1, state_h1, state_c1 = encoder_lstm1(enc_emb)\n",
    "\n",
    "# 인코더의 LSTM 2\n",
    "encoder_lstm2 = LSTM(hidden_size, return_sequences=True, return_state=True, dropout=0.4, recurrent_dropout=0.4)\n",
    "encoder_output2, state_h2, state_c2 = encoder_lstm2(encoder_output1)\n",
    "\n",
    "# 인코더의 LSTM 3\n",
    "encoder_lstm3 = LSTM(hidden_size, return_state=True, return_sequences=True, dropout=0.4, recurrent_dropout=0.4)\n",
    "encoder_outputs, state_h, state_c= encoder_lstm3(encoder_output2)"
   ]
  },
  {
   "cell_type": "code",
   "execution_count": 77,
   "metadata": {},
   "outputs": [
    {
     "name": "stdout",
     "output_type": "stream",
     "text": [
      "WARNING:tensorflow:Layer lstm_7 will not use cuDNN kernel since it doesn't meet the cuDNN kernel criteria. It will use generic GPU kernel as fallback when running on GPU\n"
     ]
    }
   ],
   "source": [
    "# 디코더 설계\n",
    "decoder_inputs = Input(shape=(None,))\n",
    "\n",
    "# 디코더의 임베딩 층\n",
    "dec_emb_layer = Embedding(2000, embedding_dim)\n",
    "dec_emb = dec_emb_layer(decoder_inputs)\n",
    "\n",
    "# 디코더의 LSTM\n",
    "decoder_lstm = LSTM(hidden_size, return_sequences=True, return_state=True, dropout=0.4, recurrent_dropout=0.2)\n",
    "decoder_outputs, _, _ = decoder_lstm(dec_emb, initial_state=[state_h, state_c])"
   ]
  },
  {
   "cell_type": "code",
   "execution_count": 78,
   "metadata": {},
   "outputs": [
    {
     "name": "stdout",
     "output_type": "stream",
     "text": [
      "Model: \"model_2\"\n",
      "__________________________________________________________________________________________________\n",
      "Layer (type)                    Output Shape         Param #     Connected to                     \n",
      "==================================================================================================\n",
      "input_3 (InputLayer)            [(None, 37)]         0                                            \n",
      "__________________________________________________________________________________________________\n",
      "embedding_2 (Embedding)         (None, 37, 128)      1024000     input_3[0][0]                    \n",
      "__________________________________________________________________________________________________\n",
      "lstm_4 (LSTM)                   [(None, 37, 256), (N 394240      embedding_2[0][0]                \n",
      "__________________________________________________________________________________________________\n",
      "input_4 (InputLayer)            [(None, None)]       0                                            \n",
      "__________________________________________________________________________________________________\n",
      "lstm_5 (LSTM)                   [(None, 37, 256), (N 525312      lstm_4[0][0]                     \n",
      "__________________________________________________________________________________________________\n",
      "embedding_3 (Embedding)         (None, None, 128)    256000      input_4[0][0]                    \n",
      "__________________________________________________________________________________________________\n",
      "lstm_6 (LSTM)                   [(None, 37, 256), (N 525312      lstm_5[0][0]                     \n",
      "__________________________________________________________________________________________________\n",
      "lstm_7 (LSTM)                   [(None, None, 256),  394240      embedding_3[0][0]                \n",
      "                                                                 lstm_6[0][1]                     \n",
      "                                                                 lstm_6[0][2]                     \n",
      "__________________________________________________________________________________________________\n",
      "dense_2 (Dense)                 (None, None, 2000)   514000      lstm_7[0][0]                     \n",
      "==================================================================================================\n",
      "Total params: 3,633,104\n",
      "Trainable params: 3,633,104\n",
      "Non-trainable params: 0\n",
      "__________________________________________________________________________________________________\n"
     ]
    }
   ],
   "source": [
    "# 디코더의 출력층\n",
    "decoder_softmax_layer = Dense(2000, activation='softmax')\n",
    "decoder_softmax_outputs = decoder_softmax_layer(decoder_outputs) \n",
    "\n",
    "# 모델 정의\n",
    "model = Model([encoder_inputs, decoder_inputs], decoder_softmax_outputs)\n",
    "model.summary()"
   ]
  },
  {
   "cell_type": "code",
   "execution_count": 79,
   "metadata": {},
   "outputs": [],
   "source": [
    "urllib.request.urlretrieve(\"https://raw.githubusercontent.com/thushv89/attention_keras/master/src/layers/attention.py\", filename=\"attention.py\")\n",
    "from attention import AttentionLayer"
   ]
  },
  {
   "cell_type": "code",
   "execution_count": 80,
   "metadata": {},
   "outputs": [
    {
     "name": "stdout",
     "output_type": "stream",
     "text": [
      "Model: \"model_3\"\n",
      "__________________________________________________________________________________________________\n",
      "Layer (type)                    Output Shape         Param #     Connected to                     \n",
      "==================================================================================================\n",
      "input_3 (InputLayer)            [(None, 37)]         0                                            \n",
      "__________________________________________________________________________________________________\n",
      "embedding_2 (Embedding)         (None, 37, 128)      1024000     input_3[0][0]                    \n",
      "__________________________________________________________________________________________________\n",
      "lstm_4 (LSTM)                   [(None, 37, 256), (N 394240      embedding_2[0][0]                \n",
      "__________________________________________________________________________________________________\n",
      "input_4 (InputLayer)            [(None, None)]       0                                            \n",
      "__________________________________________________________________________________________________\n",
      "lstm_5 (LSTM)                   [(None, 37, 256), (N 525312      lstm_4[0][0]                     \n",
      "__________________________________________________________________________________________________\n",
      "embedding_3 (Embedding)         (None, None, 128)    256000      input_4[0][0]                    \n",
      "__________________________________________________________________________________________________\n",
      "lstm_6 (LSTM)                   [(None, 37, 256), (N 525312      lstm_5[0][0]                     \n",
      "__________________________________________________________________________________________________\n",
      "lstm_7 (LSTM)                   [(None, None, 256),  394240      embedding_3[0][0]                \n",
      "                                                                 lstm_6[0][1]                     \n",
      "                                                                 lstm_6[0][2]                     \n",
      "__________________________________________________________________________________________________\n",
      "attention_layer (AttentionLayer ((None, None, 256),  131328      lstm_6[0][0]                     \n",
      "                                                                 lstm_7[0][0]                     \n",
      "__________________________________________________________________________________________________\n",
      "concat_layer (Concatenate)      (None, None, 512)    0           lstm_7[0][0]                     \n",
      "                                                                 attention_layer[0][0]            \n",
      "__________________________________________________________________________________________________\n",
      "dense_3 (Dense)                 (None, None, 2000)   1026000     concat_layer[0][0]               \n",
      "==================================================================================================\n",
      "Total params: 4,276,432\n",
      "Trainable params: 4,276,432\n",
      "Non-trainable params: 0\n",
      "__________________________________________________________________________________________________\n"
     ]
    }
   ],
   "source": [
    "# 어텐션 층(어텐션 함수)\n",
    "attn_layer = AttentionLayer(name='attention_layer')\n",
    "# 인코더와 디코더의 모든 time step의 hidden state를 어텐션 층에 전달하고 결과를 리턴\n",
    "attn_out, attn_states = attn_layer([encoder_outputs, decoder_outputs])\n",
    "\n",
    "# 어텐션의 결과와 디코더의 hidden state들을 연결\n",
    "decoder_concat_input = Concatenate(axis=-1, name='concat_layer')([decoder_outputs, attn_out])\n",
    "\n",
    "# 디코더의 출력층\n",
    "decoder_softmax_layer = Dense(2000, activation='softmax')\n",
    "decoder_softmax_outputs = decoder_softmax_layer(decoder_concat_input)\n",
    "\n",
    "# 모델 정의\n",
    "model = Model([encoder_inputs, decoder_inputs], decoder_softmax_outputs)\n",
    "model.summary()"
   ]
  },
  {
   "cell_type": "code",
   "execution_count": 81,
   "metadata": {},
   "outputs": [
    {
     "name": "stdout",
     "output_type": "stream",
     "text": [
      "Epoch 1/50\n",
      "184/184 [==============================] - 213s 1s/step - loss: 4.8675 - val_loss: 4.1631\n",
      "Epoch 2/50\n",
      "184/184 [==============================] - 191s 1s/step - loss: 4.1381 - val_loss: 3.9466\n",
      "Epoch 3/50\n",
      "184/184 [==============================] - 195s 1s/step - loss: 3.8874 - val_loss: 3.6987\n",
      "Epoch 4/50\n",
      "184/184 [==============================] - 194s 1s/step - loss: 3.6550 - val_loss: 3.5380\n",
      "Epoch 5/50\n",
      "184/184 [==============================] - 194s 1s/step - loss: 3.4679 - val_loss: 3.4071\n",
      "Epoch 6/50\n",
      "184/184 [==============================] - 193s 1s/step - loss: 3.3244 - val_loss: 3.3131\n",
      "Epoch 7/50\n",
      "184/184 [==============================] - 195s 1s/step - loss: 3.2020 - val_loss: 3.2337\n",
      "Epoch 8/50\n",
      "184/184 [==============================] - 193s 1s/step - loss: 3.0904 - val_loss: 3.1808\n",
      "Epoch 9/50\n",
      "184/184 [==============================] - 151s 822ms/step - loss: 2.9993 - val_loss: 3.1296\n",
      "Epoch 10/50\n",
      "184/184 [==============================] - 118s 639ms/step - loss: 2.9141 - val_loss: 3.0797\n",
      "Epoch 11/50\n",
      "184/184 [==============================] - 118s 640ms/step - loss: 2.8405 - val_loss: 3.0470\n",
      "Epoch 12/50\n",
      "184/184 [==============================] - 118s 639ms/step - loss: 2.7597 - val_loss: 3.0095\n",
      "Epoch 13/50\n",
      "184/184 [==============================] - 118s 640ms/step - loss: 2.7018 - val_loss: 2.9939\n",
      "Epoch 14/50\n",
      "184/184 [==============================] - 117s 638ms/step - loss: 2.6416 - val_loss: 2.9678\n",
      "Epoch 15/50\n",
      "184/184 [==============================] - 118s 639ms/step - loss: 2.5810 - val_loss: 2.9622\n",
      "Epoch 16/50\n",
      "184/184 [==============================] - 118s 639ms/step - loss: 2.5293 - val_loss: 2.9480\n",
      "Epoch 17/50\n",
      "184/184 [==============================] - 118s 639ms/step - loss: 2.4798 - val_loss: 2.9340\n",
      "Epoch 18/50\n",
      "184/184 [==============================] - 118s 640ms/step - loss: 2.4377 - val_loss: 2.9293\n",
      "Epoch 19/50\n",
      "184/184 [==============================] - 118s 639ms/step - loss: 2.3962 - val_loss: 2.9171\n",
      "Epoch 20/50\n",
      "184/184 [==============================] - 117s 638ms/step - loss: 2.3486 - val_loss: 2.9137\n",
      "Epoch 21/50\n",
      "184/184 [==============================] - 118s 639ms/step - loss: 2.3096 - val_loss: 2.9136\n",
      "Epoch 22/50\n",
      "184/184 [==============================] - 118s 639ms/step - loss: 2.2678 - val_loss: 2.9156\n",
      "Epoch 23/50\n",
      "184/184 [==============================] - 118s 639ms/step - loss: 2.2390 - val_loss: 2.9045\n",
      "Epoch 24/50\n",
      "184/184 [==============================] - 118s 640ms/step - loss: 2.2064 - val_loss: 2.9197\n",
      "Epoch 25/50\n",
      "184/184 [==============================] - 118s 640ms/step - loss: 2.1745 - val_loss: 2.9107\n",
      "Epoch 00025: early stopping\n"
     ]
    }
   ],
   "source": [
    "model.compile(optimizer='rmsprop', loss='sparse_categorical_crossentropy')\n",
    "es = EarlyStopping(monitor='val_loss', patience=2, verbose=1)\n",
    "history = model.fit(x=[encoder_input_train, decoder_input_train], y=decoder_target_train, \\\n",
    "          validation_data=([encoder_input_test, decoder_input_test], decoder_target_test), \\\n",
    "          batch_size=256, callbacks=[es], epochs=50)"
   ]
  },
  {
   "cell_type": "code",
   "execution_count": 82,
   "metadata": {},
   "outputs": [
    {
     "data": {
      "image/png": "[encoded data removed]",
      "text/plain": [
       "<Figure size 432x288 with 1 Axes>"
      ]
     },
     "metadata": {
      "needs_background": "light"
     },
     "output_type": "display_data"
    }
   ],
   "source": [
    "plt.plot(history.history['loss'], label='train')\n",
    "plt.plot(history.history['val_loss'], label='test')\n",
    "plt.legend()\n",
    "plt.show()"
   ]
  },
  {
   "cell_type": "code",
   "execution_count": 83,
   "metadata": {},
   "outputs": [],
   "source": [
    "src_index_to_word = src_tokenizer.index_word # 원문 단어 집합에서 정수 -> 단어를 얻음\n",
    "tar_word_to_index = tar_tokenizer.word_index # 요약 단어 집합에서 단어 -> 정수를 얻음\n",
    "tar_index_to_word = tar_tokenizer.index_word # 요약 단어 집합에서 정수 -> 단어를 얻음"
   ]
  },
  {
   "cell_type": "code",
   "execution_count": 84,
   "metadata": {},
   "outputs": [],
   "source": [
    "# 인코더 설계\n",
    "encoder_model = Model(inputs=encoder_inputs, outputs=[encoder_outputs, state_h, state_c])\n",
    "\n",
    "# 이전 시점의 상태들을 저장하는 텐서\n",
    "decoder_state_input_h = Input(shape=(hidden_size,))\n",
    "decoder_state_input_c = Input(shape=(hidden_size,))\n",
    "\n",
    "dec_emb2 = dec_emb_layer(decoder_inputs)\n",
    "\n",
    "# 문장의 다음 단어를 예측하기 위해서 초기 상태(initial_state)를 이전 시점의 상태로 사용. 이는 뒤의 함수 decode_sequence()에 구현\n",
    "# 훈련 과정에서와 달리 LSTM의 리턴하는 은닉 상태와 셀 상태인 state_h와 state_c를 버리지 않음.\n",
    "decoder_outputs2, state_h2, state_c2 = decoder_lstm(dec_emb2, initial_state=[decoder_state_input_h, decoder_state_input_c])"
   ]
  },
  {
   "cell_type": "code",
   "execution_count": 85,
   "metadata": {},
   "outputs": [],
   "source": [
    "# 어텐션 함수\n",
    "decoder_hidden_state_input = Input(shape=(text_max_len, hidden_size))\n",
    "attn_out_inf, attn_states_inf = attn_layer([decoder_hidden_state_input, decoder_outputs2])\n",
    "decoder_inf_concat = Concatenate(axis=-1, name='concat')([decoder_outputs2, attn_out_inf])\n",
    "\n",
    "# 디코더의 출력층\n",
    "decoder_outputs2 = decoder_softmax_layer(decoder_inf_concat) \n",
    "\n",
    "# 최종 디코더 모델\n",
    "decoder_model = Model(\n",
    "    [decoder_inputs] + [decoder_hidden_state_input,decoder_state_input_h, decoder_state_input_c],\n",
    "    [decoder_outputs2] + [state_h2, state_c2])"
   ]
  },
  {
   "cell_type": "code",
   "execution_count": 90,
   "metadata": {},
   "outputs": [],
   "source": [
    "def decode_sequence(input_seq):\n",
    "    # 입력으로부터 인코더의 상태를 얻음\n",
    "    e_out, e_h, e_c = encoder_model.predict(input_seq)\n",
    "\n",
    "     # <SOS>에 해당하는 토큰 생성\n",
    "    target_seq = np.zeros((1,1))\n",
    "    target_seq[0, 0] = tar_word_to_index['sostoken']\n",
    "\n",
    "    stop_condition = False\n",
    "    decoded_sentence = ''\n",
    "    while not stop_condition: # stop_condition이 True가 될 때까지 루프 반복\n",
    "\n",
    "        output_tokens, h, c = decoder_model.predict([target_seq] + [e_out, e_h, e_c])\n",
    "        sampled_token_index = np.argmax(output_tokens[0, -1, :])\n",
    "        sampled_token = tar_index_to_word[sampled_token_index]\n",
    "\n",
    "        if (sampled_token!='eostoken'):\n",
    "            decoded_sentence += ' '+sampled_token\n",
    "\n",
    "        #  <eos>에 도달하거나 최대 길이를 넘으면 중단.\n",
    "        if (sampled_token == 'eostoken'  or len(decoded_sentence.split()) >= (headlines_max_len-1)):\n",
    "            stop_condition = True\n",
    "\n",
    "        # 길이가 1인 타겟 시퀀스를 업데이트\n",
    "        target_seq = np.zeros((1,1))\n",
    "        target_seq[0, 0] = sampled_token_index\n",
    "\n",
    "        # 상태를 업데이트 합니다.\n",
    "        e_h, e_c = h, c\n",
    "\n",
    "    return decoded_sentence"
   ]
  },
  {
   "cell_type": "code",
   "execution_count": 87,
   "metadata": {},
   "outputs": [],
   "source": [
    "# 원문의 정수 시퀀스를 텍스트 시퀀스로 변환\n",
    "def seq2text(input_seq):\n",
    "    temp=''\n",
    "    for i in input_seq:\n",
    "        if (i!=0):\n",
    "            temp = temp + src_index_to_word[i]+' '\n",
    "    return temp\n",
    "\n",
    "# 요약문의 정수 시퀀스를 텍스트 시퀀스로 변환\n",
    "def seq2summary(input_seq):\n",
    "    temp=''\n",
    "    for i in input_seq:\n",
    "        if ((i!=0 and i!=tar_word_to_index['sostoken']) and i!=tar_word_to_index['eostoken']):\n",
    "            temp = temp + tar_index_to_word[i] + ' '\n",
    "    return temp"
   ]
  },
  {
   "cell_type": "markdown",
   "metadata": {},
   "source": [
    "## 4. 실제 결과와 요약문 비교하기 (추상적 요약)"
   ]
  },
  {
   "cell_type": "code",
   "execution_count": 91,
   "metadata": {},
   "outputs": [
    {
     "name": "stdout",
     "output_type": "stream",
     "text": [
      "원문 : directorate general civil aviation told national green tribunal impossible dump human aircraft toilets comes days dgca issued circular compliance directions ngt stating airlines pay found dumping toilet waste mid air dgca also sought review stay order \n",
      "실제 요약 : to mid air tells ngt \n",
      "예측 요약 :  ministry panel to put on emergency\n",
      "\n",
      "\n",
      "원문 : delhi cm arvind kejriwal leave maharashtra september attend day session centre cm access outdoor media including newspapers television period official said notably ancient technique includes strict discipline giving luxury among others \n",
      "실제 요약 : delhi cm kejriwal to attend day session in maha \n",
      "예측 요약 :  will not be in delhi cm kejriwal\n",
      "\n",
      "\n",
      "원문 : four students seven years age washed away krishna river andhra pradesh district wednesday morning said police inspector locals immediately jumped water save since flow swift could catch boys added \n",
      "실제 요약 : four students away in river in andhra \n",
      "예측 요약 :  students die after river in andhra pradesh\n",
      "\n",
      "\n",
      "원문 : ahead champions trophy final clash pakistan indian captain virat kohli urged team forget victory rivals group stage everyone aware kind talent day beat side world added kohli \n",
      "실제 요약 : group win over pak kohli warns team before final \n",
      "예측 요약 :  kohli is not kohli\n",
      "\n",
      "\n",
      "원문 : shiv sena chief uddhav thackeray slammed prime minister narendra modi power taking away independence states true democracy country affairs going run according wishes prime minister thackeray questioned interview party mouthpiece \n",
      "실제 요약 : shiv sena slams pm modi for power \n",
      "예측 요약 :  pm modi should be pm modi\n",
      "\n",
      "\n",
      "원문 : devi wife ex bihar cm rjd chief lalu yadav scheduled appearance wednesday enforcement directorate connection railway hotels allotment scam devi earlier ed summons case twice asked appear central probe agency october \n",
      "실제 요약 : ed in hotel scam \n",
      "예측 요약 :  lalu prasad yadav meets railways\n",
      "\n",
      "\n",
      "원문 : man threw another man feet high bridge argument girlfriend said police officers us incident occurred victim asked accused girlfriend okay accused charged attempted murder connection encounter left victim seriously injured \n",
      "실제 요약 : man in couple gets from bridge \n",
      "예측 요약 :  man throws on girlfriend after being murder\n",
      "\n",
      "\n",
      "원문 : pakistan military said statement wednesday firing indian side claimed lives soldier two civilians added seven others including two soldiers injured firing across line control said attack leading forces returning fire \n",
      "실제 요약 : pak claims firing by indian killed soldier civilians \n",
      "예측 요약 :  pak pakistan kills in\n",
      "\n",
      "\n",
      "원문 : singer bhattacharya claimed people like karan johar reason new twitter account suspended added twitter people brought pakistani india called indian filmmakers actors anti national working pakistani tweeted bigger enemies \n",
      "실제 요약 : johar for twitter account \n",
      "예측 요약 :  cannot stop accounts for indian media\n",
      "\n",
      "\n",
      "원문 : china agreed significantly increase purchase goods us attempt reduce latter billion trade deficit joint statement issued two countries said comes us president donald trump threatened tariffs chinese imports trade surplus reduced billion \n",
      "실제 요약 : china to increase us to trade war \n",
      "예측 요약 :  china imposes billion in trade deal\n",
      "\n",
      "\n",
      "원문 : congress mp mistakenly said mizoram instead meghalaya moving notice lok sabha thursday notice said need rescue miners trapped mizoram even though miners trapped meghalaya miners trapped two weeks \n",
      "실제 요약 : cong mp says trapped in instead of meghalaya \n",
      "예측 요약 :  will not ban not to strike congress\n",
      "\n",
      "\n",
      "원문 : north korea warned us allies pursue sanctions faster complete development nuclear ballistic missile programme according reports un security council recently imposed fresh sanctions north korea banning textile exports oil imports following sixth nuclear test \n",
      "실제 요약 : more the sanctions will be korea \n",
      "예측 요약 :  north korea to sanctions north korea\n",
      "\n",
      "\n",
      "원문 : shares commerce technology company much friday ahead annual general meeting saturday stock failed recover even company clarified material information disclosed within time ahmedabad based company provides software development services web development commerce services \n",
      "실제 요약 : shares day before meeting \n",
      "예측 요약 :  shares of india\n",
      "\n",
      "\n",
      "원문 : qatar approved new employment law limits foreign domestic staff maximum hours work day first protection foreigners working country law monthly payment wages workers least one day week expected benefit hundreds indians working qatar \n",
      "실제 요약 : new qatar law to indian domestic staff \n",
      "예측 요약 :  qatar plans to for women in\n",
      "\n",
      "\n",
      "원문 : diamond sold auction crore become world expensive bag diamonds white gold used one two diamond made annually reports bag \n",
      "실제 요약 : bag becomes world by selling for cr \n",
      "예측 요약 :  diamond sells for crore for auction\n",
      "\n",
      "\n",
      "원문 : jd leader hd kumaraswamy would taking oath karnataka cm wednesday also film producer kumaraswamy son former pm hd produced chandra kannada film ran days theatres earlier served cm february october coalition government bjp \n",
      "실제 요약 : next taka cm film that days in theatres \n",
      "예측 요약 :  taka cm vijay to be in bihar\n",
      "\n",
      "\n",
      "원문 : muslim festival also known id ul celebrated india august masjid new delhi announced sunday festival includes sacrifice animal upon along friends family celebrated different countries dates \n",
      "실제 요약 : to be on in india \n",
      "예측 요약 :  muslim village in\n",
      "\n",
      "\n",
      "원문 : delhi police booked bsf constable woman alleged bus delhi brought police station examined found inebriated state fir registered case investigation underway \n",
      "실제 요약 : bsf constable held for at woman on bus \n",
      "예측 요약 :  delhi man booked for molesting woman in delhi\n",
      "\n",
      "\n",
      "원문 : music composer quit sushant singh rajput kriti sanon starrer film raabta asked song film producers policy facebook note wrote requested producers remove name raabta producer bhushan kumar said decision \n",
      "실제 요약 : quits after being asked to song \n",
      "예측 요약 :  sushant to star in upcoming film\n",
      "\n",
      "\n",
      "원문 : actor govinda appeared tax department friday following summons paying service tax dues around lakh govinda appeared person assured us clearing dues next days department official said official said govinda earned crore products acting past three years \n",
      "실제 요약 : tax dept for not paying dues worth lakh \n",
      "예측 요약 :  banks to pay tax to pay for\n",
      "\n",
      "\n",
      "원문 : anthony engineer fired uber google accused stealing secrets lost potential crore stock besides job received lakh uber shares hired ride hailing startup august last year none shares time terminated \n",
      "실제 요약 : fired uber engineer loses cr in stock job \n",
      "예측 요약 :  google employee accused of stealing bribe\n",
      "\n",
      "\n",
      "원문 : four separate incidents sexual assault minors reported uttar pradesh saturday seven year old child raped man water year old raped uncle year old allegedly raped doctor muzaffarnagar minor sexually assaulted three persons \n",
      "실제 요약 : sexually assaulted in separate in up \n",
      "예측 요약 :  rape victim in rape case\n",
      "\n",
      "\n",
      "원문 : west bengal cm mamata banerjee appealed people darjeeling maintain peace calm region heading netherlands said ministers monitoring situation three activists morcha allegedly killed police firing protestors carried rally killed \n",
      "실제 요약 : mamata calls for peace in to \n",
      "예측 요약 :  mamata to declare in west bengal\n",
      "\n",
      "\n",
      "원문 : mumbai police wednesday tweeted warning bridge grant road station hence traffic diverted another route warning comes day part station andheri collapsed injuring five people notably cleared safety audit report november \n",
      "실제 요약 : in another mumbai bridge after collapse \n",
      "예측 요약 :  mumbai police to stop traffic\n",
      "\n",
      "\n",
      "원문 : speaking trend personal facebook coo sandberg said package speak speak data behind think building personal brand career want sandberg added interview professor adam grant \n",
      "실제 요약 : don on building personal brand \n",
      "예측 요약 :  facebook is not data scandal\n",
      "\n",
      "\n",
      "원문 : greek government declared state emergency wildfires killed least people injured others firefighters vehicles deployed bring fires control greece interior minister described wildfires national tragedy disaster human losses \n",
      "실제 요약 : declares state of emergency as kill \n",
      "예측 요약 :  declared dead in\n",
      "\n",
      "\n",
      "원문 : income tax return filing reportedly rose crore current fiscal till december number expected hit crore mark march reports added refunds issued crore taxpayers december rise year ago period reports observed \n",
      "실제 요약 : hits record cr till december reports \n",
      "예측 요약 :  dept crore in april\n",
      "\n",
      "\n",
      "원문 : leaked internal united airlines promotional sign twitter revealed apple million per year airline books seats daily flights china apple followed facebook google spend million united airlines confidential please share outside united sign said \n",
      "실제 요약 : apple million year on united airlines tickets \n",
      "예측 요약 :  man removed from app store store in china\n",
      "\n",
      "\n",
      "원문 : china launched world first fully electric cargo ship travel kilometre tonne cargo two hour charge tonne vessel manufactured international company powered tonne battery metre long ship cruise top speed kmph \n",
      "실제 요약 : china launches world first electric ship \n",
      "예측 요약 :  china launches world largest\n",
      "\n",
      "\n",
      "원문 : slamming karnataka cm hd kumaraswamy led government congress minister reportedly gifted iphones mps state bjp tweeted government shame democracy comes bjp mp rajeev refused gift calling unacceptable public money like meanwhile cm claimed knowledge gifts \n",
      "실제 요약 : bjp slams karnataka govt over being to mps \n",
      "예측 요약 :  karnataka cm blames bjp for congress\n",
      "\n",
      "\n",
      "원문 : ousted nissan chairman carlos wife letter human rights watch claimed jail allowed take twice thrice week confined cell denied daily added year old detained financial misconduct allegations recently developed fever \n",
      "실제 요약 : jailed ex chief allowed to week wife \n",
      "예측 요약 :  director slams ex wife for\n",
      "\n",
      "\n",
      "원문 : first year student government college tamil nadu coimbatore suspended allegedly celebrating birth anniversary freedom fighter bhagat singh student along celebrated anniversary despite denied permission huge celebration gathering less hour girl said \n",
      "실제 요약 : tn girl suspended after singh birth \n",
      "예측 요약 :  girl gives birth to hospital on\n",
      "\n",
      "\n",
      "원문 : jet french air force unit released wrong colour french tricolour formation flight day parade last week jet left red smoke rather blue two hour parade involved soldiers vehicles aircraft \n",
      "실제 요약 : french air force up flag on day \n",
      "예측 요약 :  jet airways flight after landing\n",
      "\n",
      "\n",
      "원문 : hrithik roshan took twitter share picture father rakesh roshan family father underwent surgery throat cancer thank helping power actor wrote hrithik tuesday revealed father diagnosed early stage throat cancer weeks ago \n",
      "실제 요약 : up and about hrithik shares pic post dad cancer surgery \n",
      "예측 요약 :  hrithik hrithik shares picture with her daughter\n",
      "\n",
      "\n",
      "원문 : pet dog brazil rushed balcony home apparently getting scared new year eve found balcony saved caught safely bed sheet four people gathered ground floor \n",
      "실제 요약 : dog falls off third floor saved using \n",
      "예측 요약 :  dog shot dead in\n",
      "\n",
      "\n",
      "원문 : india leading carmaker maruti suzuki planning develop electric motors small cars star next years also plans push vehicles run natural gas alternative petrol diesel vehicles automaker sell million cars fiscal \n",
      "실제 요약 : to electric of \n",
      "예측 요약 :  plans to launch electric cars in cars\n",
      "\n",
      "\n",
      "원문 : preity zinta revealed met sara ali khan sets film kya adding would come go like oh god preity said seen sara grow lot personal feels connected \n",
      "실제 요약 : had said sara during shoot \n",
      "예측 요약 :  am not to my daughter sara\n",
      "\n",
      "\n",
      "원문 : super boxer stephen smith ear nearly clashed heads francisco boxing bout las vegas saturday bout stopped early end ninth round technical decision referee called doctor take look smith almost ear \n",
      "실제 요약 : almost off during match \n",
      "예측 요약 :  smith was trapped in the months\n",
      "\n",
      "\n",
      "원문 : narcotics control bureau arrested year old woman delhi airport cocaine weighing grams order smuggle nigerian national national capital doctors administered woman week worth around crore lodged jail \n",
      "실제 요약 : woman with in her held in delhi \n",
      "예측 요약 :  two arrested for smuggling gold at delhi airport\n",
      "\n",
      "\n",
      "원문 : supreme court thursday dismissed pil seeking use ballot papers upcoming assembly lok sabha elections petitioner argued evms capable misused used ensure free fair elections every system machine capable used misused apex court said \n",
      "실제 요약 : sc dismisses seeking use of papers in elections \n",
      "예측 요약 :  sc to use of in\n",
      "\n",
      "\n",
      "원문 : world champion ruled upcoming asian games failing recover lower back injury year old gold medal last commonwealth games went mumbai last week get treatment suffering unidentified lower back problem since may \n",
      "실제 요약 : indian world champ pulls out of asian games \n",
      "예측 요약 :  world st at asiad\n",
      "\n",
      "\n",
      "원문 : ranveer singh sara ali khan starrer simmba released today sure shot winner wrote bollywood hungama film expect said times india hindustan times praised ranveer performance wrote rated \n",
      "실제 요약 : ranveer singh sara ali khan starrer hits theatres \n",
      "예측 요약 :  ranveer singh starrer hits the theatres\n",
      "\n",
      "\n",
      "원문 : several chinese tourists slammed vietnam wearing shirts depicting country territorial claims disputed south china sea calls asked take shirts allowing leave airport vietnam airport police officer said notably vietnam also claims parts south china sea \n",
      "실제 요약 : chinese tourists slammed over china sea on \n",
      "예측 요약 :  china removes from chinese airport\n",
      "\n",
      "\n",
      "원문 : minister state railways sunday flagged assam first express long standing demand better rail connectivity guwahati guwahati express would demand people said minister urged people take care railway property \n",
      "실제 요약 : assam gets its first express \n",
      "예측 요약 :  railways to set up to build in\n",
      "\n",
      "\n",
      "원문 : pm narendra modi monday took twitter demise former lok sabha speaker ten time mp chatterjee called indian politics describing presence house president ram nath kovind tweeted loss public life bengal india \n",
      "실제 요약 : was political pm on time mp \n",
      "예측 요약 :  pm modi speech in lok sabha elections\n",
      "\n",
      "\n",
      "원문 : stating sexual harassment cases must zero tolerance policy union minister maneka gandhi said believe pain behind every single complaint discussing metoo campaign added takes lot women come like first thing naming shaming \n",
      "실제 요약 : there is behind the metoo complaints \n",
      "예측 요약 :  cannot be on sexual harassment allegations\n",
      "\n",
      "\n",
      "원문 : nokia brand photographer tuesday accidentally shared clip company upcoming smartphones video platform second clip later taken showed nokia nokia two devices one devices expected company latest flagship nokia showed dual camera \n",
      "실제 요약 : accidentally of upcoming phone \n",
      "예측 요약 :  accidentally accidentally accidentally creates to\n",
      "\n",
      "\n",
      "원문 : bangalore program data science ranked among top india aim awarding worth crore top candidates get help make career transition companies like uber big average salary hike \n",
      "실제 요약 : awards cr for in data \n",
      "예측 요약 :  which are the most in the world\n",
      "\n",
      "\n",
      "원문 : new song titled ek dil ek deepika padukone shahid kapoor ranveer singh starrer padmavati released composed sanjay leela bhansali vocals singer written song lyrics directed bhansali padmavati scheduled release december \n",
      "실제 요약 : song from deepika shahid padmavati out \n",
      "예측 요약 :  song from deepika starrer ranveer singh released\n",
      "\n",
      "\n",
      "원문 : jammu kashmir assembly passed bill establishment law university state along lines bengaluru national law school india university official said process establishment start year official added move aims improve quality professional legal education state \n",
      "실제 요약 : to have law university to \n",
      "예측 요약 :  telangana passes bill to\n",
      "\n",
      "\n"
     ]
    }
   ],
   "source": [
    "for i in range(50, 100):\n",
    "    print(\"원문 :\", seq2text(encoder_input_test[i]))\n",
    "    print(\"실제 요약 :\", seq2summary(decoder_input_test[i]))\n",
    "    print(\"예측 요약 :\", decode_sequence(encoder_input_test[i].reshape(1, text_max_len)))\n",
    "    print(\"\\n\")"
   ]
  },
  {
   "cell_type": "markdown",
   "metadata": {},
   "source": [
    "## 5. 추출적 요약"
   ]
  },
  {
   "cell_type": "code",
   "execution_count": 93,
   "metadata": {},
   "outputs": [],
   "source": [
    "import requests\n",
    "from summa.summarizer import summarize"
   ]
  },
  {
   "cell_type": "code",
   "execution_count": 94,
   "metadata": {},
   "outputs": [
    {
     "name": "stdout",
     "output_type": "stream",
     "text": [
      "Summary:\n",
      "['He added decisions like demonetisation and RERA have put a check on black money that used to be \"parked in the real estate sector\".']\n"
     ]
    }
   ],
   "source": [
    "data_news = pd.read_csv('news_summary_more.csv', encoding='iso-8859-1')\n",
    "print('Summary:')\n",
    "print(summarize(data_news[\"text\"][i], ratio=0.5, split=True))"
   ]
  },
  {
   "cell_type": "code",
   "execution_count": 95,
   "metadata": {},
   "outputs": [
    {
     "name": "stdout",
     "output_type": "stream",
     "text": [
      "Summary:\n",
      "Prime Minister Narendra Modi on Wednesday said his government's demonetisation decision made houses affordable for the aspiring youth.\n",
      "He added decisions like demonetisation and RERA have put a check on black money that used to be \"parked in the real estate sector\".\n"
     ]
    }
   ],
   "source": [
    "print('Summary:')\n",
    "print(summarize(data_news[\"text\"][i], words=50))"
   ]
  },
  {
   "cell_type": "markdown",
   "metadata": {},
   "source": [
    "### 회고 : 처음 어텐션을 코드로 구현해서 NLP에 적용하는 기준이 정말 색달랐습니다.. 아무래도 처음 요약을 실행해서 정리를 하였는데 인코더 및 디코더에 입력 출력층에 관련해서 조금 더 이해도를 높힐 수 있었던 계기가 되었습니다..아직까지 이해가 안된 부분들이 정말 너무나도 많지만 천천히 공부할려고 합니다.. 문장은 제 기준에선 어느정도 납득가게 나온 것 같아서 그나마 만족스럽게 제출할 수 있었던 것 같습니다"
   ]
  },
  {
   "cell_type": "markdown",
   "metadata": {},
   "source": []
  }
 ],
 "metadata": {
  "kernelspec": {
   "display_name": "Python 3",
   "language": "python",
   "name": "python3"
  },
  "orig_nbformat": 4
 },
 "nbformat": 4,
 "nbformat_minor": 2
}
